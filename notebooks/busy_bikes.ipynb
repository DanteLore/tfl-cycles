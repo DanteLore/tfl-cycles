{
 "cells": [
  {
   "cell_type": "code",
   "execution_count": 1,
   "metadata": {},
   "outputs": [
    {
     "data": {
      "text/html": [
       "<style>.container { width:100% !important; }</style>"
      ],
      "text/plain": [
       "<IPython.core.display.HTML object>"
      ]
     },
     "metadata": {},
     "output_type": "display_data"
    }
   ],
   "source": [
    "from IPython.core.display import display, HTML\n",
    "display(HTML(\"<style>.container { width:100% !important; }</style>\"))"
   ]
  },
  {
   "cell_type": "code",
   "execution_count": null,
   "metadata": {},
   "outputs": [],
   "source": [
    "import random\n",
    "from datetime import datetime\n",
    "\n",
    "import geopandas as gpd\n",
    "import googlemaps\n",
    "import keyring\n",
    "import matplotlib.dates as mdates\n",
    "import matplotlib.pyplot as plt\n",
    "import mplleaflet\n",
    "import pandas as pd\n",
    "import polyline\n",
    "import seaborn as sns\n",
    "from IPython.display import Markdown\n",
    "from pyspark.sql import SparkSession\n",
    "from pyspark.sql import types as T\n",
    "from shapely.geometry import Point, LineString\n",
    "\n",
    "palette = sns.color_palette(\"colorblind\", 20)\n",
    "\n",
    "\n",
    "def to_geo(df, x_field='longitude', y_field='latitude'):\n",
    "    geometry = [Point(xy) for xy in zip(df[x_field], df[y_field])]\n",
    "    return gpd.GeoDataFrame(df, geometry=geometry)\n",
    "\n",
    "\n",
    "spark = (\n",
    "    SparkSession.builder\n",
    "        .master(\"local\")\n",
    "        .appName(\"TFL Notebook\")\n",
    "        .config('spark.executor.memory', '8G')\n",
    "        .config('spark.driver.memory', '16G')\n",
    "        .config('spark.driver.maxResultSize', '10G')\n",
    "        .config(\"spark.sql.crossJoin.enabled\", \"true\")\n",
    "        .getOrCreate()\n",
    ")\n",
    "\n",
    "BIKE_POINTS_FILE = \"../data/bike-points.csv\"\n",
    "\n",
    "schema = T.StructType([\n",
    "    T.StructField(\"idx\",       T.IntegerType(), False),\n",
    "    T.StructField(\"id\",        T.IntegerType(), False),\n",
    "    T.StructField(\"name\",      T.StringType(),  False),\n",
    "    T.StructField(\"latitude\",  T.DoubleType(),  False),\n",
    "    T.StructField(\"longitude\", T.DoubleType(),  False),\n",
    "    T.StructField(\"osgb_x\",    T.DoubleType(),  False),\n",
    "    T.StructField(\"osgb_y\",    T.DoubleType(),  False),\n",
    "    T.StructField(\"numdocks\",  T.LongType(),    False),\n",
    "    T.StructField(\"num_bikes\", T.LongType(),    False),\n",
    "    T.StructField(\"num_empty\", T.LongType(),    False)\n",
    "])\n",
    "bike_points = spark.read.csv(BIKE_POINTS_FILE, schema=schema, header='true', mode=\"PERMISSIVE\")\n",
    "bike_points.createOrReplaceTempView(\"bike_points\")\n",
    "\n",
    "trips = spark.read.parquet(\"../data/parquet_trip\")\n",
    "trips.createOrReplaceTempView(\"trips\")\n",
    "\n",
    "df = spark.sql(\"\"\"\n",
    "    select (sum(duration) / 60) as duration, count(1) as trip_count, bike_id, start_year, start_month, start_day from trips\n",
    "    group by bike_id, start_year, start_month, start_day\n",
    "    order by trip_count desc\n",
    "\"\"\")\n",
    "\n",
    "df.createOrReplaceTempView(\"busy_bikes\")\n",
    "\n",
    "top_bikes = df.limit(20).toPandas()\n",
    "\n",
    "top_bikes"
   ]
  },
  {
   "cell_type": "markdown",
   "metadata": {},
   "source": [
    "### Select Interesting Bike:"
   ]
  },
  {
   "cell_type": "code",
   "execution_count": null,
   "metadata": {},
   "outputs": [],
   "source": [
    "my_bike = random.choice(top_bikes.to_dict(orient='records'))\n",
    "\n",
    "my_bike"
   ]
  },
  {
   "cell_type": "code",
   "execution_count": null,
   "metadata": {},
   "outputs": [],
   "source": [
    "\n",
    "bike_id = my_bike['bike_id']\n",
    "year = my_bike['start_year']\n",
    "month = my_bike['start_month']\n",
    "day = my_bike['start_day']\n",
    "\n",
    "journeys = spark.sql(\"\"\"\n",
    "    select \n",
    "     t.start_ts, \n",
    "     t.start_station_name, \n",
    "     t.end_ts, \n",
    "     t.end_station_name, \n",
    "     t.duration, \n",
    "     a.latitude as start_lat, \n",
    "     a.longitude as start_lon, \n",
    "     b.latitude as end_lat, \n",
    "     b.longitude as end_lon\n",
    "    from trips t\n",
    "    join bike_points a on (t.start_station_id = a.id)\n",
    "    join bike_points b on (t.end_station_id = b.id)\n",
    "    where bike_id = {0} \n",
    "      and start_year = {1} \n",
    "      and start_month = {2} \n",
    "      and start_day = {3}\n",
    "    order by start_ts asc\n",
    "\"\"\".format(bike_id, year, month, day)).toPandas()\n",
    "\n",
    "journeys"
   ]
  },
  {
   "cell_type": "code",
   "execution_count": null,
   "metadata": {},
   "outputs": [],
   "source": [
    "gmaps = googlemaps.Client(key=keyring.get_password('logicalgenetics', 'google'))\n",
    "\n",
    "route_data = []\n",
    "\n",
    "for index, row in journeys.iterrows():\n",
    "    p1 = (row['start_lon'], row['start_lat'])\n",
    "    p2 = (row['end_lon'], row['end_lat'])\n",
    "\n",
    "    directions_result = gmaps.directions(\"{1}, {0}\".format(*p1),\n",
    "                                         \"{1}, {0}\".format(*p2),\n",
    "                                         mode=\"bicycling\",\n",
    "                                         departure_time=datetime.now())\n",
    "\n",
    "    encoded = directions_result[0]['overview_polyline']['points']\n",
    "    points = [(lat, lon) for (lon, lat) in polyline.decode(encoded)]\n",
    "    \n",
    "    if len(points) > 1:\n",
    "        route_data.append(LineString(points))\n",
    "    else:\n",
    "        route_data.append(LineString([p1, p1])) # Zero length line\n",
    "        "
   ]
  },
  {
   "cell_type": "code",
   "execution_count": null,
   "metadata": {
    "scrolled": false
   },
   "outputs": [],
   "source": [
    "fig,ax=plt.subplots(figsize=(14,10))\n",
    "\n",
    "palette = sns.color_palette(\"colorblind\", journeys.count()[0])\n",
    "\n",
    "starts = to_geo(journeys[['start_lon', 'start_lat']], x_field='start_lon', y_field='start_lat')\n",
    "ends = to_geo(journeys[['end_lon', 'end_lat']], x_field='end_lon', y_field='end_lat')\n",
    "\n",
    "routes = gpd.GeoDataFrame(pd.DataFrame(route_data, columns=['geometry']))\n",
    "routes.plot(ax=ax, color=palette, linewidth=4.0)\n",
    "\n",
    "ends.plot(ax=ax, markersize=100, marker='s', color=palette)\n",
    "starts.plot(ax=ax, markersize=75, marker='o', color=palette)\n",
    "mplleaflet.display(fig=fig, crs=starts.crs, tiles='cartodb_positron')"
   ]
  },
  {
   "cell_type": "code",
   "execution_count": null,
   "metadata": {},
   "outputs": [],
   "source": []
  }
 ],
 "metadata": {
  "kernelspec": {
   "display_name": "Python 3",
   "language": "python",
   "name": "python3"
  },
  "language_info": {
   "codemirror_mode": {
    "name": "ipython",
    "version": 3
   },
   "file_extension": ".py",
   "mimetype": "text/x-python",
   "name": "python",
   "nbconvert_exporter": "python",
   "pygments_lexer": "ipython3",
   "version": "3.7.1"
  }
 },
 "nbformat": 4,
 "nbformat_minor": 2
}
