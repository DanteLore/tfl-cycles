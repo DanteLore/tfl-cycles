{
 "cells": [
  {
   "cell_type": "code",
   "execution_count": 1,
   "metadata": {},
   "outputs": [],
   "source": [
    "import random\n",
    "import geopandas as gpd\n",
    "import matplotlib.dates as mdates\n",
    "import matplotlib.pyplot as plt\n",
    "import mplleaflet\n",
    "import seaborn as sns\n",
    "from pyspark.sql import SparkSession\n",
    "from pyspark.sql import types as T\n",
    "from shapely.geometry import Point, Polygon, LineString\n",
    "from IPython.display import Markdown\n",
    "\n",
    "\n",
    "palette = sns.color_palette(\"colorblind\", 20)\n",
    "\n",
    "\n",
    "def to_geo(df, x_field='longitude', y_field='latitude'):\n",
    "    geometry = [Point(xy) for xy in zip(df[x_field], df[y_field])]\n",
    "    return gpd.GeoDataFrame(df, geometry=geometry)\n",
    "\n",
    "\n",
    "spark = (\n",
    "    SparkSession.builder\n",
    "        .master(\"local\")\n",
    "        .appName(\"TFL Notebook\")\n",
    "        .config('spark.executor.memory', '8G')\n",
    "        .config('spark.driver.memory', '16G')\n",
    "        .config('spark.driver.maxResultSize', '10G')\n",
    "        .config(\"spark.sql.crossJoin.enabled\", \"true\")\n",
    "        .getOrCreate()\n",
    ")\n",
    "\n",
    "BIKE_POINTS_FILE = \"../data/bike-points.csv\"\n",
    "\n",
    "schema = T.StructType([\n",
    "    T.StructField(\"idx\",       T.IntegerType(), False),\n",
    "    T.StructField(\"id\",        T.IntegerType(), False),\n",
    "    T.StructField(\"name\",      T.StringType(),  False),\n",
    "    T.StructField(\"latitude\",  T.DoubleType(),  False),\n",
    "    T.StructField(\"longitude\", T.DoubleType(),  False),\n",
    "    T.StructField(\"osgb_x\",    T.DoubleType(),  False),\n",
    "    T.StructField(\"osgb_y\",    T.DoubleType(),  False),\n",
    "    T.StructField(\"numdocks\",  T.LongType(),    False),\n",
    "    T.StructField(\"num_bikes\", T.LongType(),    False),\n",
    "    T.StructField(\"num_empty\", T.LongType(),    False)\n",
    "])\n",
    "bike_points = spark.read.csv(BIKE_POINTS_FILE, schema=schema, header='true', mode=\"PERMISSIVE\")\n",
    "bike_points.createOrReplaceTempView(\"bike_points\")\n",
    "\n",
    "trips = spark.read.parquet(\"../data/parquet_trip\")\n",
    "trips.createOrReplaceTempView(\"trips\")\n",
    "\n",
    "trip_counts = spark.sql(\"\"\"\n",
    "    select start_station_name, end_station_name, count(*) as trip_count, sum(duration) as duration\n",
    "    from trips \n",
    "    group by start_station_name, end_station_name\n",
    "\"\"\")\n",
    "trip_counts.createOrReplaceTempView(\"trip_counts\")\n",
    "\n",
    "# Get the names only\n",
    "spark.sql(\"\"\"\n",
    "    select name from bike_points\n",
    "\"\"\").createOrReplaceTempView(\"bike_point_names\")\n",
    "\n",
    "# Self cross join to get all the name:name combos\n",
    "spark.sql(\"\"\"\n",
    "    select \n",
    "        a.name as start_station_name, \n",
    "        b.name as end_station_name\n",
    "    from bike_point_names a \n",
    "    cross join bike_point_names b\n",
    "\"\"\").createOrReplaceTempView(\"possible_trips\")\n",
    "\n",
    "\n",
    "dead_trips = spark.sql(\"\"\"\n",
    "    select p.start_station_name, p.end_station_name\n",
    "    from possible_trips p\n",
    "    left outer join trip_counts c on (p.start_station_name = c.start_station_name and p.end_station_name = c.end_station_name)\n",
    "    where c.end_station_name is null\n",
    "\"\"\").sample(False, 0.01).collect()\n"
   ]
  },
  {
   "cell_type": "code",
   "execution_count": 2,
   "metadata": {},
   "outputs": [],
   "source": [
    "c = bike_points.count()\n",
    "expected = c * c\n",
    "\n",
    "actual = trip_counts.count()\n",
    "\n",
    "t = random.choice(dead_trips)"
   ]
  },
  {
   "cell_type": "code",
   "execution_count": 3,
   "metadata": {},
   "outputs": [],
   "source": [
    "tweet =(\"\"\"\n",
    "Did you know, out of the {0:,} possible trips on @TflCycles (there are {1} stations) a whopping {2:,} have never been recorded?\n",
    "\n",
    "Why not be the first to cycle from {3} to {4}?\n",
    "\n",
    "#OpenData\"\"\".format(expected, c, expected - actual, t[\"start_station_name\"], t[\"end_station_name\"]))\n"
   ]
  },
  {
   "cell_type": "code",
   "execution_count": 7,
   "metadata": {
    "scrolled": false
   },
   "outputs": [
    {
     "name": "stdout",
     "output_type": "stream",
     "text": [
      "(-0.009935, 51.546326)\n",
      "(-0.165297, 51.461923)\n"
     ]
    }
   ],
   "source": [
    "\n",
    "df = to_geo(spark.sql('''\n",
    "    select * from bike_points where name = \"{0}\" or name = \"{1}\"\n",
    "'''\n",
    "            .format(t[\"start_station_name\"], t[\"end_station_name\"]))\n",
    "            .toPandas()\n",
    "           )\n",
    "\n",
    "p1 = tuple(df.loc[df['name'] == t[\"start_station_name\"]][[\"longitude\", \"latitude\"]].values[0])\n",
    "p2 = tuple(df.loc[df['name'] == t[\"end_station_name\"]][[\"longitude\", \"latitude\"]].values[0])\n",
    "\n",
    "print(p1)\n",
    "print(p2)\n",
    "\n",
    "line = LineString([p1, p2])\n",
    "line_gdf = gpd.GeoDataFrame(geometry=[line])\n"
   ]
  },
  {
   "cell_type": "markdown",
   "metadata": {},
   "source": [
    "# Results"
   ]
  },
  {
   "cell_type": "code",
   "execution_count": 5,
   "metadata": {},
   "outputs": [
    {
     "data": {
      "text/markdown": [
       "\n",
       "Did you know, out of the 614,656 possible trips on @TflCycles (there are 784 stations) a whopping 62,229 have never been recorded?\n",
       "\n",
       "Why not be the first to cycle from East Village, Queen Elizabeth Olympic Park to Limburg Road, Clapham Junction?\n",
       "\n",
       "#OpenData"
      ],
      "text/plain": [
       "<IPython.core.display.Markdown object>"
      ]
     },
     "execution_count": 5,
     "metadata": {},
     "output_type": "execute_result"
    }
   ],
   "source": [
    "Markdown(tweet)"
   ]
  },
  {
   "cell_type": "code",
   "execution_count": 6,
   "metadata": {},
   "outputs": [
    {
     "data": {
      "text/html": [
       "<iframe src=\"data:text/html;base64,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\" width=\"100%\" height=\"600\"></iframe>"
      ],
      "text/plain": [
       "<IPython.core.display.HTML object>"
      ]
     },
     "execution_count": 6,
     "metadata": {},
     "output_type": "execute_result"
    }
   ],
   "source": [
    "fig,ax=plt.subplots(figsize=(10,10))\n",
    "line_gdf.plot(ax=ax, color='Purple')\n",
    "df.plot(ax=ax, markersize=1000, marker='*', color='Purple')\n",
    "mplleaflet.display(fig=fig, crs=df.crs, tiles='stamen_wc')"
   ]
  },
  {
   "cell_type": "code",
   "execution_count": null,
   "metadata": {},
   "outputs": [],
   "source": []
  }
 ],
 "metadata": {
  "kernelspec": {
   "display_name": "Python 3",
   "language": "python",
   "name": "python3"
  },
  "language_info": {
   "codemirror_mode": {
    "name": "ipython",
    "version": 3
   },
   "file_extension": ".py",
   "mimetype": "text/x-python",
   "name": "python",
   "nbconvert_exporter": "python",
   "pygments_lexer": "ipython3",
   "version": "3.7.1"
  }
 },
 "nbformat": 4,
 "nbformat_minor": 2
}
