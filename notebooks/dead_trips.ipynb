{
 "cells": [
  {
   "cell_type": "code",
   "execution_count": 1,
   "metadata": {},
   "outputs": [],
   "source": [
    "import random\n",
    "import pandas as pd\n",
    "import geopandas as gpd\n",
    "import matplotlib.dates as mdates\n",
    "import matplotlib.pyplot as plt\n",
    "import mplleaflet\n",
    "import seaborn as sns\n",
    "from pyspark.sql import SparkSession\n",
    "from pyspark.sql import types as T\n",
    "from shapely.geometry import Point, Polygon, LineString\n",
    "from IPython.display import Markdown\n",
    "\n",
    "\n",
    "palette = sns.color_palette(\"colorblind\", 20)\n",
    "\n",
    "\n",
    "def to_geo(df, x_field='longitude', y_field='latitude'):\n",
    "    geometry = [Point(xy) for xy in zip(df[x_field], df[y_field])]\n",
    "    return gpd.GeoDataFrame(df, geometry=geometry)\n",
    "\n",
    "\n",
    "spark = (\n",
    "    SparkSession.builder\n",
    "        .master(\"local\")\n",
    "        .appName(\"TFL Notebook\")\n",
    "        .config('spark.executor.memory', '8G')\n",
    "        .config('spark.driver.memory', '16G')\n",
    "        .config('spark.driver.maxResultSize', '10G')\n",
    "        .config(\"spark.sql.crossJoin.enabled\", \"true\")\n",
    "        .getOrCreate()\n",
    ")\n",
    "\n",
    "BIKE_POINTS_FILE = \"../data/bike-points.csv\"\n",
    "\n",
    "schema = T.StructType([\n",
    "    T.StructField(\"idx\",       T.IntegerType(), False),\n",
    "    T.StructField(\"id\",        T.IntegerType(), False),\n",
    "    T.StructField(\"name\",      T.StringType(),  False),\n",
    "    T.StructField(\"latitude\",  T.DoubleType(),  False),\n",
    "    T.StructField(\"longitude\", T.DoubleType(),  False),\n",
    "    T.StructField(\"osgb_x\",    T.DoubleType(),  False),\n",
    "    T.StructField(\"osgb_y\",    T.DoubleType(),  False),\n",
    "    T.StructField(\"numdocks\",  T.LongType(),    False),\n",
    "    T.StructField(\"num_bikes\", T.LongType(),    False),\n",
    "    T.StructField(\"num_empty\", T.LongType(),    False)\n",
    "])\n",
    "bike_points = spark.read.csv(BIKE_POINTS_FILE, schema=schema, header='true', mode=\"PERMISSIVE\")\n",
    "bike_points.createOrReplaceTempView(\"bike_points\")\n",
    "\n",
    "trips = spark.read.parquet(\"../data/parquet_trip\")\n",
    "trips.createOrReplaceTempView(\"trips\")\n",
    "\n",
    "trip_counts = spark.sql(\"\"\"\n",
    "    select start_station_name, end_station_name, count(*) as trip_count, sum(duration) as duration\n",
    "    from trips \n",
    "    group by start_station_name, end_station_name\n",
    "\"\"\")\n",
    "trip_counts.createOrReplaceTempView(\"trip_counts\")\n",
    "\n",
    "# Get the names only\n",
    "spark.sql(\"\"\"\n",
    "    select name from bike_points\n",
    "\"\"\").createOrReplaceTempView(\"bike_point_names\")\n",
    "\n",
    "# Self cross join to get all the name:name combos\n",
    "spark.sql(\"\"\"\n",
    "    select \n",
    "        a.name as start_station_name, \n",
    "        b.name as end_station_name\n",
    "    from bike_point_names a \n",
    "    cross join bike_point_names b\n",
    "\"\"\").createOrReplaceTempView(\"possible_trips\")\n",
    "\n",
    "\n",
    "dead_trips = spark.sql(\"\"\"\n",
    "    select p.start_station_name, p.end_station_name\n",
    "    from possible_trips p\n",
    "    left outer join trip_counts c on (p.start_station_name = c.start_station_name and p.end_station_name = c.end_station_name)\n",
    "    where c.end_station_name is null\n",
    "\"\"\").sample(False, 0.01).collect()\n"
   ]
  },
  {
   "cell_type": "code",
   "execution_count": 2,
   "metadata": {},
   "outputs": [],
   "source": [
    "c = bike_points.count()\n",
    "expected = c * c\n",
    "\n",
    "actual = trip_counts.count()\n",
    "\n",
    "t = random.choice(dead_trips)"
   ]
  },
  {
   "cell_type": "code",
   "execution_count": 14,
   "metadata": {},
   "outputs": [],
   "source": [
    "tweet =(\"\"\"\n",
    "Did you know, out of the {0:,} possible trips on @SantanderCycles (there are {1} stations) a whopping {2:,} have never been recorded?\n",
    "\n",
    "Why not be the first to cycle from {3} to {4}?\n",
    "\n",
    "#OpenData #DataViz #PySpark #Maps\"\"\".format(expected, c, expected - actual, t[\"start_station_name\"], t[\"end_station_name\"]))\n"
   ]
  },
  {
   "cell_type": "code",
   "execution_count": 4,
   "metadata": {
    "scrolled": false
   },
   "outputs": [],
   "source": [
    "\n",
    "df = to_geo(spark.sql('''\n",
    "    select * from bike_points where name = \"{0}\" or name = \"{1}\"\n",
    "'''\n",
    "            .format(t[\"start_station_name\"], t[\"end_station_name\"]))\n",
    "            .toPandas()\n",
    "           )\n",
    "\n",
    "p1 = tuple(df.loc[df['name'] == t[\"start_station_name\"]][[\"longitude\", \"latitude\"]].values[0])\n",
    "p2 = tuple(df.loc[df['name'] == t[\"end_station_name\"]][[\"longitude\", \"latitude\"]].values[0])\n",
    "\n",
    "line = LineString([p1, p2])\n",
    "line_gdf = gpd.GeoDataFrame(geometry=[line])\n"
   ]
  },
  {
   "cell_type": "code",
   "execution_count": 5,
   "metadata": {},
   "outputs": [],
   "source": [
    "import googlemaps\n",
    "import keyring\n",
    "from datetime import datetime\n",
    "import polyline\n",
    "\n",
    "gmaps = googlemaps.Client(key=keyring.get_password('logicalgenetics', 'google'))\n",
    "\n",
    "directions_result = gmaps.directions(\"{1}, {0}\".format(*p1),\n",
    "                                     \"{1}, {0}\".format(*p2),\n",
    "                                     mode=\"bicycling\",\n",
    "                                     departure_time=datetime.now())\n",
    "\n",
    "encoded = directions_result[0]['overview_polyline']['points']\n",
    "points = [(lat, lon) for (lon, lat) in polyline.decode(encoded)]\n",
    "\n",
    "route = gpd.GeoDataFrame(pd.DataFrame([LineString(points)], columns=['geometry']))\n"
   ]
  },
  {
   "cell_type": "markdown",
   "metadata": {},
   "source": [
    "# Results"
   ]
  },
  {
   "cell_type": "code",
   "execution_count": 15,
   "metadata": {},
   "outputs": [
    {
     "data": {
      "text/markdown": [
       "\n",
       "Did you know, out of the 614,656 possible trips on @SantanderCycles (there are 784 stations) a whopping 62,229 have never been recorded?\n",
       "\n",
       "Why not be the first to cycle from Pott Street, Bethnal Green to Bell Street , Marylebone?\n",
       "\n",
       "#OpenData #DataViz #PySpark #Maps"
      ],
      "text/plain": [
       "<IPython.core.display.Markdown object>"
      ]
     },
     "execution_count": 15,
     "metadata": {},
     "output_type": "execute_result"
    }
   ],
   "source": [
    "Markdown(tweet)"
   ]
  },
  {
   "cell_type": "code",
   "execution_count": 11,
   "metadata": {},
   "outputs": [
    {
     "data": {
      "text/html": [
       "<iframe src=\"data:text/html;base64,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\" width=\"100%\" height=\"600\"></iframe>"
      ],
      "text/plain": [
       "<IPython.core.display.HTML object>"
      ]
     },
     "execution_count": 11,
     "metadata": {},
     "output_type": "execute_result"
    }
   ],
   "source": [
    "fig,ax=plt.subplots(figsize=(10,10))\n",
    "#line_gdf.plot(ax=ax, color='purple')\n",
    "\n",
    "route.plot(ax=ax, color='purple', linewidth=6.0)\n",
    "\n",
    "df.plot(ax=ax, markersize=2000, marker='*', color='purple')\n",
    "mplleaflet.display(fig=fig, crs=df.crs, tiles='stamen_wc')\n"
   ]
  },
  {
   "cell_type": "code",
   "execution_count": null,
   "metadata": {},
   "outputs": [],
   "source": []
  },
  {
   "cell_type": "code",
   "execution_count": null,
   "metadata": {},
   "outputs": [],
   "source": []
  }
 ],
 "metadata": {
  "kernelspec": {
   "display_name": "Python 3",
   "language": "python",
   "name": "python3"
  },
  "language_info": {
   "codemirror_mode": {
    "name": "ipython",
    "version": 3
   },
   "file_extension": ".py",
   "mimetype": "text/x-python",
   "name": "python",
   "nbconvert_exporter": "python",
   "pygments_lexer": "ipython3",
   "version": "3.7.1"
  }
 },
 "nbformat": 4,
 "nbformat_minor": 2
}
