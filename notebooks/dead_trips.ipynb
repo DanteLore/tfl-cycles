{
 "cells": [
  {
   "cell_type": "code",
   "execution_count": 1,
   "metadata": {},
   "outputs": [],
   "source": [
    "import random\n",
    "import geopandas as gpd\n",
    "import matplotlib.dates as mdates\n",
    "import matplotlib.pyplot as plt\n",
    "import mplleaflet\n",
    "import seaborn as sns\n",
    "from pyspark.sql import SparkSession\n",
    "from pyspark.sql import types as T\n",
    "from shapely.geometry import Point\n",
    "\n",
    "palette = sns.color_palette(\"colorblind\", 20)\n",
    "\n",
    "\n",
    "def to_geo(df, x_field='longitude', y_field='latitude'):\n",
    "    geometry = [Point(xy) for xy in zip(df[x_field], df[y_field])]\n",
    "    return gpd.GeoDataFrame(df, geometry=geometry)\n",
    "\n",
    "\n",
    "spark = (\n",
    "    SparkSession.builder\n",
    "        .master(\"local\")\n",
    "        .appName(\"TFL Notebook\")\n",
    "        .config('spark.executor.memory', '8G')\n",
    "        .config('spark.driver.memory', '16G')\n",
    "        .config('spark.driver.maxResultSize', '10G')\n",
    "        .config(\"spark.sql.crossJoin.enabled\", \"true\")\n",
    "        .getOrCreate()\n",
    ")\n",
    "\n",
    "BIKE_POINTS_FILE = \"../data/bike-points.csv\"\n",
    "\n",
    "schema = T.StructType([\n",
    "    T.StructField(\"idx\",       T.IntegerType(), False),\n",
    "    T.StructField(\"id\",        T.IntegerType(), False),\n",
    "    T.StructField(\"name\",      T.StringType(),  False),\n",
    "    T.StructField(\"latitude\",  T.DoubleType(),  False),\n",
    "    T.StructField(\"longitude\", T.DoubleType(),  False),\n",
    "    T.StructField(\"osgb_x\",    T.DoubleType(),  False),\n",
    "    T.StructField(\"osgb_y\",    T.DoubleType(),  False),\n",
    "    T.StructField(\"numdocks\",  T.LongType(),    False),\n",
    "    T.StructField(\"num_bikes\", T.LongType(),    False),\n",
    "    T.StructField(\"num_empty\", T.LongType(),    False)\n",
    "])\n",
    "bike_points = spark.read.csv(BIKE_POINTS_FILE, schema=schema, header='true', mode=\"PERMISSIVE\")\n",
    "bike_points.createOrReplaceTempView(\"bike_points\")\n",
    "\n",
    "trips = spark.read.parquet(\"../data/parquet_trip\")\n",
    "trips.createOrReplaceTempView(\"trips\")\n",
    "\n",
    "trip_counts = spark.sql(\"\"\"\n",
    "    select start_station_name, end_station_name, count(*) as trip_count, sum(duration) as duration\n",
    "    from trips \n",
    "    group by start_station_name, end_station_name\n",
    "\"\"\")\n",
    "trip_counts.createOrReplaceTempView(\"trip_counts\")\n",
    "\n",
    "spark.sql(\"\"\"\n",
    "    select name from bike_points\n",
    "\"\"\").createOrReplaceTempView(\"bike_point_names\")\n",
    "\n",
    "spark.sql(\"\"\"\n",
    "    select a.name as start_station_name, b.name as end_station_name \n",
    "    from bike_point_names a \n",
    "    cross join bike_point_names b\n",
    "\"\"\").createOrReplaceTempView(\"possible_trips\")\n",
    "\n",
    "dead_trips = spark.sql(\"\"\"\n",
    "    select p.start_station_name, p.end_station_name\n",
    "    from possible_trips p\n",
    "    left outer join trip_counts c on (p.start_station_name = c.start_station_name and p.end_station_name = c.end_station_name)\n",
    "    where c.end_station_name is null\n",
    "\"\"\").limit(100).collect()\n"
   ]
  },
  {
   "cell_type": "code",
   "execution_count": 2,
   "metadata": {},
   "outputs": [
    {
     "name": "stdout",
     "output_type": "stream",
     "text": [
      "\n",
      "Did you know, out of the 614,656 possible trips on @TflCycles (there are 784 stations) a whopping 62,229 have never been recorded?\n",
      "\n",
      "Why not be the first to cycle from Bouverie Street, Temple to Bevington Road, North Kensington?\n",
      "\n",
      "#OpenData\n"
     ]
    }
   ],
   "source": [
    "c = bike_points.count()\n",
    "expected = c * c\n",
    "\n",
    "actual = trip_counts.count()\n",
    "\n",
    "t = random.choice(dead_trips)\n",
    "\n",
    "print((\"\"\"\n",
    "Did you know, out of the {0:,} possible trips on @TflCycles (there are {1} stations) a whopping {2:,} have never been recorded?\n",
    "\n",
    "Why not be the first to cycle from {3} to {4}?\n",
    "\n",
    "#OpenData\"\"\").format(expected, c, expected - actual, t[\"start_station_name\"], t[\"end_station_name\"]))\n"
   ]
  },
  {
   "cell_type": "code",
   "execution_count": 4,
   "metadata": {
    "scrolled": false
   },
   "outputs": [
    {
     "data": {
      "text/html": [
       "<iframe src=\"data:text/html;base64,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\" width=\"100%\" height=\"600\"></iframe>"
      ],
      "text/plain": [
       "<IPython.core.display.HTML object>"
      ]
     },
     "execution_count": 4,
     "metadata": {},
     "output_type": "execute_result"
    }
   ],
   "source": [
    "df = to_geo(spark.sql(\"select * from bike_points where name = '{0}' or name = '{1}'\".format(t[\"start_station_name\"], t[\"end_station_name\"])).toPandas())\n",
    "\n",
    "fig,ax=plt.subplots(figsize=(10,10))\n",
    "\n",
    "df.plot(ax=ax, markersize=1000, marker='*', color='Purple')\n",
    "\n",
    "mplleaflet.display(fig=fig, crs=df.crs, tiles='stamen_wc')\n",
    "\n"
   ]
  },
  {
   "cell_type": "code",
   "execution_count": null,
   "metadata": {},
   "outputs": [],
   "source": []
  }
 ],
 "metadata": {
  "kernelspec": {
   "display_name": "Python 3",
   "language": "python",
   "name": "python3"
  },
  "language_info": {
   "codemirror_mode": {
    "name": "ipython",
    "version": 3
   },
   "file_extension": ".py",
   "mimetype": "text/x-python",
   "name": "python",
   "nbconvert_exporter": "python",
   "pygments_lexer": "ipython3",
   "version": "3.7.1"
  }
 },
 "nbformat": 4,
 "nbformat_minor": 2
}
