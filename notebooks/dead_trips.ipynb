{
 "cells": [
  {
   "cell_type": "code",
   "execution_count": 1,
   "metadata": {},
   "outputs": [],
   "source": [
    "import random\n",
    "import geopandas as gpd\n",
    "import matplotlib.dates as mdates\n",
    "import matplotlib.pyplot as plt\n",
    "import mplleaflet\n",
    "import seaborn as sns\n",
    "from pyspark.sql import SparkSession\n",
    "from pyspark.sql import types as T\n",
    "from shapely.geometry import Point, Polygon, LineString\n",
    "from IPython.display import Markdown\n",
    "\n",
    "\n",
    "palette = sns.color_palette(\"colorblind\", 20)\n",
    "\n",
    "\n",
    "def to_geo(df, x_field='longitude', y_field='latitude'):\n",
    "    geometry = [Point(xy) for xy in zip(df[x_field], df[y_field])]\n",
    "    return gpd.GeoDataFrame(df, geometry=geometry)\n",
    "\n",
    "\n",
    "spark = (\n",
    "    SparkSession.builder\n",
    "        .master(\"local\")\n",
    "        .appName(\"TFL Notebook\")\n",
    "        .config('spark.executor.memory', '8G')\n",
    "        .config('spark.driver.memory', '16G')\n",
    "        .config('spark.driver.maxResultSize', '10G')\n",
    "        .config(\"spark.sql.crossJoin.enabled\", \"true\")\n",
    "        .getOrCreate()\n",
    ")\n",
    "\n",
    "BIKE_POINTS_FILE = \"../data/bike-points.csv\"\n",
    "\n",
    "schema = T.StructType([\n",
    "    T.StructField(\"idx\",       T.IntegerType(), False),\n",
    "    T.StructField(\"id\",        T.IntegerType(), False),\n",
    "    T.StructField(\"name\",      T.StringType(),  False),\n",
    "    T.StructField(\"latitude\",  T.DoubleType(),  False),\n",
    "    T.StructField(\"longitude\", T.DoubleType(),  False),\n",
    "    T.StructField(\"osgb_x\",    T.DoubleType(),  False),\n",
    "    T.StructField(\"osgb_y\",    T.DoubleType(),  False),\n",
    "    T.StructField(\"numdocks\",  T.LongType(),    False),\n",
    "    T.StructField(\"num_bikes\", T.LongType(),    False),\n",
    "    T.StructField(\"num_empty\", T.LongType(),    False)\n",
    "])\n",
    "bike_points = spark.read.csv(BIKE_POINTS_FILE, schema=schema, header='true', mode=\"PERMISSIVE\")\n",
    "bike_points.createOrReplaceTempView(\"bike_points\")\n",
    "\n",
    "trips = spark.read.parquet(\"../data/parquet_trip\")\n",
    "trips.createOrReplaceTempView(\"trips\")\n",
    "\n",
    "trip_counts = spark.sql(\"\"\"\n",
    "    select start_station_name, end_station_name, count(*) as trip_count, sum(duration) as duration\n",
    "    from trips \n",
    "    group by start_station_name, end_station_name\n",
    "\"\"\")\n",
    "trip_counts.createOrReplaceTempView(\"trip_counts\")\n",
    "\n",
    "# Get the names only\n",
    "spark.sql(\"\"\"\n",
    "    select name from bike_points\n",
    "\"\"\").createOrReplaceTempView(\"bike_point_names\")\n",
    "\n",
    "# Self cross join to get all the name:name combos\n",
    "spark.sql(\"\"\"\n",
    "    select \n",
    "        a.name as start_station_name, \n",
    "        b.name as end_station_name\n",
    "    from bike_point_names a \n",
    "    cross join bike_point_names b\n",
    "\"\"\").createOrReplaceTempView(\"possible_trips\")\n",
    "\n",
    "\n",
    "dead_trips = spark.sql(\"\"\"\n",
    "    select p.start_station_name, p.end_station_name\n",
    "    from possible_trips p\n",
    "    left outer join trip_counts c on (p.start_station_name = c.start_station_name and p.end_station_name = c.end_station_name)\n",
    "    where c.end_station_name is null\n",
    "\"\"\").sample(False, 0.01).collect()\n"
   ]
  },
  {
   "cell_type": "code",
   "execution_count": 2,
   "metadata": {},
   "outputs": [],
   "source": [
    "c = bike_points.count()\n",
    "expected = c * c\n",
    "\n",
    "actual = trip_counts.count()\n",
    "\n",
    "t = random.choice(dead_trips)"
   ]
  },
  {
   "cell_type": "code",
   "execution_count": 3,
   "metadata": {},
   "outputs": [],
   "source": [
    "tweet =(\"\"\"\n",
    "Did you know, out of the {0:,} possible trips on @TflCycles (there are {1} stations) a whopping {2:,} have never been recorded?\n",
    "\n",
    "Why not be the first to cycle from {3} to {4}?\n",
    "\n",
    "#OpenData\"\"\".format(expected, c, expected - actual, t[\"start_station_name\"], t[\"end_station_name\"]))\n"
   ]
  },
  {
   "cell_type": "code",
   "execution_count": 4,
   "metadata": {
    "scrolled": false
   },
   "outputs": [],
   "source": [
    "\n",
    "df = to_geo(spark.sql('''\n",
    "    select * from bike_points where name = \"{0}\" or name = \"{1}\"\n",
    "'''\n",
    "            .format(t[\"start_station_name\"], t[\"end_station_name\"]))\n",
    "            .toPandas()\n",
    "           )\n",
    "\n",
    "p1 = tuple(df.loc[df['name'] == t[\"start_station_name\"]][[\"longitude\", \"latitude\"]].values[0])\n",
    "p2 = tuple(df.loc[df['name'] == t[\"end_station_name\"]][[\"longitude\", \"latitude\"]].values[0])\n",
    "\n",
    "line = LineString([p1, p2])\n",
    "line_gdf = gpd.GeoDataFrame(geometry=[line])\n"
   ]
  },
  {
   "cell_type": "markdown",
   "metadata": {},
   "source": [
    "# Results"
   ]
  },
  {
   "cell_type": "code",
   "execution_count": 5,
   "metadata": {},
   "outputs": [
    {
     "data": {
      "text/markdown": [
       "\n",
       "Did you know, out of the 614,656 possible trips on @TflCycles (there are 784 stations) a whopping 62,229 have never been recorded?\n",
       "\n",
       "Why not be the first to cycle from Natural History Museum, South Kensington to Albert Gardens, Stepney?\n",
       "\n",
       "#OpenData"
      ],
      "text/plain": [
       "<IPython.core.display.Markdown object>"
      ]
     },
     "execution_count": 5,
     "metadata": {},
     "output_type": "execute_result"
    }
   ],
   "source": [
    "Markdown(tweet)"
   ]
  },
  {
   "cell_type": "code",
   "execution_count": 6,
   "metadata": {},
   "outputs": [
    {
     "data": {
      "text/html": [
       "<iframe src=\"data:text/html;base64,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\" width=\"100%\" height=\"600\"></iframe>"
      ],
      "text/plain": [
       "<IPython.core.display.HTML object>"
      ]
     },
     "execution_count": 6,
     "metadata": {},
     "output_type": "execute_result"
    }
   ],
   "source": [
    "fig,ax=plt.subplots(figsize=(10,10))\n",
    "line_gdf.plot(ax=ax, color='Purple')\n",
    "df.plot(ax=ax, markersize=1000, marker='*', color='Purple')\n",
    "mplleaflet.display(fig=fig, crs=df.crs, tiles='stamen_wc')"
   ]
  },
  {
   "cell_type": "code",
   "execution_count": null,
   "metadata": {},
   "outputs": [],
   "source": []
  }
 ],
 "metadata": {
  "kernelspec": {
   "display_name": "Python 3",
   "language": "python",
   "name": "python3"
  },
  "language_info": {
   "codemirror_mode": {
    "name": "ipython",
    "version": 3
   },
   "file_extension": ".py",
   "mimetype": "text/x-python",
   "name": "python",
   "nbconvert_exporter": "python",
   "pygments_lexer": "ipython3",
   "version": "3.7.1"
  }
 },
 "nbformat": 4,
 "nbformat_minor": 2
}
