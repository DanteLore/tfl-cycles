{
 "cells": [
  {
   "cell_type": "code",
   "execution_count": 1,
   "metadata": {
    "tags": [
     "hidecode"
    ]
   },
   "outputs": [],
   "source": [
    "import random\n",
    "from datetime import datetime\n",
    "\n",
    "import geopandas as gpd\n",
    "import googlemaps\n",
    "import keyring\n",
    "import matplotlib.dates as mdates\n",
    "import matplotlib.pyplot as plt\n",
    "import mplleaflet\n",
    "import pandas as pd\n",
    "import polyline\n",
    "import seaborn as sns\n",
    "from IPython.display import Markdown\n",
    "from pyspark.sql import SparkSession\n",
    "from pyspark.sql import types as T\n",
    "from shapely.geometry import Point, LineString\n",
    "\n",
    "palette = sns.color_palette(\"colorblind\", 20)\n",
    "\n",
    "\n",
    "def to_geo(df, x_field='longitude', y_field='latitude'):\n",
    "    geometry = [Point(xy) for xy in zip(df[x_field], df[y_field])]\n",
    "    return gpd.GeoDataFrame(df, geometry=geometry)\n",
    "\n",
    "\n",
    "spark = (\n",
    "    SparkSession.builder\n",
    "        .master(\"local\")\n",
    "        .appName(\"TFL Notebook\")\n",
    "        .config('spark.executor.memory', '8G')\n",
    "        .config('spark.driver.memory', '16G')\n",
    "        .config('spark.driver.maxResultSize', '10G')\n",
    "        .config(\"spark.sql.crossJoin.enabled\", \"true\")\n",
    "        .getOrCreate()\n",
    ")\n",
    "\n",
    "BIKE_POINTS_FILE = \"../data/bike-points.csv\"\n",
    "\n",
    "schema = T.StructType([\n",
    "    T.StructField(\"idx\",       T.IntegerType(), False),\n",
    "    T.StructField(\"id\",        T.IntegerType(), False),\n",
    "    T.StructField(\"name\",      T.StringType(),  False),\n",
    "    T.StructField(\"latitude\",  T.DoubleType(),  False),\n",
    "    T.StructField(\"longitude\", T.DoubleType(),  False),\n",
    "    T.StructField(\"osgb_x\",    T.DoubleType(),  False),\n",
    "    T.StructField(\"osgb_y\",    T.DoubleType(),  False),\n",
    "    T.StructField(\"numdocks\",  T.LongType(),    False),\n",
    "    T.StructField(\"num_bikes\", T.LongType(),    False),\n",
    "    T.StructField(\"num_empty\", T.LongType(),    False)\n",
    "])\n",
    "bike_points = spark.read.csv(BIKE_POINTS_FILE, schema=schema, header='true', mode=\"PERMISSIVE\")\n",
    "bike_points.createOrReplaceTempView(\"bike_points\")\n",
    "\n",
    "trips = spark.read.parquet(\"../data/parquet_trip\")\n",
    "trips.createOrReplaceTempView(\"trips\")\n",
    "\n",
    "trip_counts = spark.sql(\"\"\"\n",
    "    select start_station_name, end_station_name, count(*) as trip_count, sum(duration) as duration\n",
    "    from trips \n",
    "    group by start_station_name, end_station_name\n",
    "\"\"\")\n",
    "trip_counts.createOrReplaceTempView(\"trip_counts\")\n",
    "\n",
    "# Get the names only\n",
    "spark.sql(\"\"\"\n",
    "    select name from bike_points\n",
    "\"\"\").createOrReplaceTempView(\"bike_point_names\")\n",
    "\n",
    "# Self cross join to get all the name:name combos\n",
    "spark.sql(\"\"\"\n",
    "    select \n",
    "        a.name as start_station_name, \n",
    "        b.name as end_station_name\n",
    "    from bike_point_names a \n",
    "    cross join bike_point_names b\n",
    "\"\"\").createOrReplaceTempView(\"possible_trips\")\n",
    "\n",
    "\n",
    "dead_trips = spark.sql(\"\"\"\n",
    "    select p.start_station_name, p.end_station_name\n",
    "    from possible_trips p\n",
    "    left outer join trip_counts c on (p.start_station_name = c.start_station_name and p.end_station_name = c.end_station_name)\n",
    "    where c.end_station_name is null\n",
    "\"\"\").sample(False, 0.01).collect()\n"
   ]
  },
  {
   "cell_type": "markdown",
   "metadata": {},
   "source": [
    "# Results"
   ]
  },
  {
   "cell_type": "code",
   "execution_count": 2,
   "metadata": {
    "tags": [
     "hidecode"
    ]
   },
   "outputs": [
    {
     "data": {
      "text/markdown": [
       "\n",
       "Did you know, out of the 614,656 possible trips on @SantanderCycles (there are 784 stations) a whopping 62,229 have never been recorded?\n",
       "\n",
       "Why not be the first to cycle from Freston Road, Avondale to Old Montague Street, Whitechapel?\n",
       "\n",
       "#OpenData #DataViz #PySpark #Maps"
      ],
      "text/plain": [
       "<IPython.core.display.Markdown object>"
      ]
     },
     "execution_count": 2,
     "metadata": {},
     "output_type": "execute_result"
    }
   ],
   "source": [
    "c = bike_points.count()\n",
    "expected = c * c\n",
    "\n",
    "actual = trip_counts.count()\n",
    "\n",
    "t = random.choice(dead_trips)\n",
    "\n",
    "tweet =(\"\"\"\n",
    "Did you know, out of the {0:,} possible trips on @SantanderCycles (there are {1} stations) a whopping {2:,} have never been recorded?\n",
    "\n",
    "Why not be the first to cycle from {3} to {4}?\n",
    "\n",
    "#OpenData #DataViz #PySpark #Maps\"\"\".format(expected, c, expected - actual, t[\"start_station_name\"], t[\"end_station_name\"]))\n",
    "\n",
    "Markdown(tweet)\n"
   ]
  },
  {
   "cell_type": "code",
   "execution_count": 3,
   "metadata": {
    "slideshow": {
     "slide_type": "-"
    },
    "tags": [
     "hidecode"
    ]
   },
   "outputs": [],
   "source": [
    "\n",
    "df = to_geo(spark.sql('''\n",
    "    select * from bike_points where name = \"{0}\" or name = \"{1}\"\n",
    "'''\n",
    "            .format(t[\"start_station_name\"], t[\"end_station_name\"]))\n",
    "            .toPandas()\n",
    "           )\n",
    "\n",
    "p1 = tuple(df.loc[df['name'] == t[\"start_station_name\"]][[\"longitude\", \"latitude\"]].values[0])\n",
    "p2 = tuple(df.loc[df['name'] == t[\"end_station_name\"]][[\"longitude\", \"latitude\"]].values[0])\n",
    "\n",
    "line = LineString([p1, p2])\n",
    "line_gdf = gpd.GeoDataFrame(geometry=[line])\n",
    "\n",
    "gmaps = googlemaps.Client(key=keyring.get_password('logicalgenetics', 'google'))\n",
    "\n",
    "directions_result = gmaps.directions(\"{1}, {0}\".format(*p1),\n",
    "                                     \"{1}, {0}\".format(*p2),\n",
    "                                     mode=\"bicycling\",\n",
    "                                     departure_time=datetime.now())\n",
    "\n",
    "encoded = directions_result[0]['overview_polyline']['points']\n",
    "points = [(lat, lon) for (lon, lat) in polyline.decode(encoded)]\n",
    "\n",
    "route = gpd.GeoDataFrame(pd.DataFrame([LineString(points)], columns=['geometry']))\n"
   ]
  },
  {
   "cell_type": "code",
   "execution_count": 4,
   "metadata": {
    "tags": [
     "hidecode"
    ]
   },
   "outputs": [
    {
     "data": {
      "text/html": [
       "<iframe src=\"data:text/html;base64,PGhlYWQ+CiAgICA8c2NyaXB0IHNyYz0iaHR0cHM6Ly9jZG5qcy5jbG91ZGZsYXJlLmNvbS9hamF4L2xpYnMvbGVhZmxldC8wLjcuMy9sZWFmbGV0LmpzIj48L3NjcmlwdD4KICAgIDxsaW5rIHJlbD0ic3R5bGVzaGVldCIgaHJlZj0iaHR0cHM6Ly9jZG5qcy5jbG91ZGZsYXJlLmNvbS9hamF4L2xpYnMvbGVhZmxldC8wLjcuMy9sZWFmbGV0LmNzcyIgLz4KICA8c3R5bGU+CiAgICAjbWFwMzIzZDExZDFiMzJkNDYxYTlhYTViNjYzNThmOWU4N2YgewogICAgICBoZWlnaHQ6MTAwJTsKICAgIH0KICA8L3N0eWxlPiAKPC9oZWFkPgo8Ym9keT4KICA8ZGl2IGlkPSJtYXAzMjNkMTFkMWIzMmQ0NjFhOWFhNWI2NjM1OGY5ZTg3ZiI+PC9kaXY+CjxzY3JpcHQgdGV4dD0idGV4dC9qYXZhc2NyaXB0Ij4KdmFyIG1hcCA9IEwubWFwKCdtYXAzMjNkMTFkMWIzMmQ0NjFhOWFhNWI2NjM1OGY5ZTg3ZicpOwpMLnRpbGVMYXllcigKICAiaHR0cDovL3tzfS50aWxlLnN0YW1lbi5jb20vd2F0ZXJjb2xvci97en0ve3h9L3t5fS5wbmciLAogIHttYXhab29tOjE5LCBhdHRyaWJ1dGlvbjogJzxhIGhyZWY9Imh0dHBzOi8vZ2l0aHViLmNvbS9qd2Fzcy9tcGxsZWFmbGV0Ij5tcGxsZWFmbGV0PC9hPiB8IE1hcCB0aWxlcyBieSA8YSBocmVmPSJodHRwOi8vc3RhbWVuLmNvbSI+U3RhbWVuIERlc2lnbjwvYT4sIDxhIGhyZWY9Imh0dHA6Ly9jcmVhdGl2ZWNvbW1vbnMub3JnL2xpY2Vuc2VzL2J5LzMuMCI+Q0MgQlkgMy4wPC9hPiAmbWRhc2g7IE1hcCBkYXRhICZjb3B5OyA8YSBocmVmPSJodHRwOi8vd3d3Lm9wZW5zdHJlZXRtYXAub3JnL2NvcHlyaWdodCI+T3BlblN0cmVldE1hcDwvYT4nfSkuYWRkVG8obWFwKTsKdmFyIGdqRGF0YSA9IHsidHlwZSI6ICJGZWF0dXJlQ29sbGVjdGlvbiIsICJmZWF0dXJlcyI6IFt7InR5cGUiOiAiRmVhdHVyZSIsICJnZW9tZXRyeSI6IHsidHlwZSI6ICJMaW5lU3RyaW5nIiwgImNvb3JkaW5hdGVzIjogW1stMC4yMTk0MSwgNTEuNTEzMDFdLCBbLTAuMjE4MTksIDUxLjUxMTYxXSwgWy0wLjIxODExLCA1MS41MTE1OF0sIFstMC4yMTc5NSwgNTEuNTExNTZdLCBbLTAuMjE3ODgsIDUxLjUxMTU1XSwgWy0wLjIxNzg5LCA1MS41MTEzN10sIFstMC4yMTc4OSwgNTEuNTExMjhdLCBbLTAuMjE3ODQsIDUxLjUxMTJdLCBbLTAuMjE3MzksIDUxLjUxMDY0XSwgWy0wLjIxNjksIDUxLjUxMDA4XSwgWy0wLjIxNjMxLCA1MS41MTAyM10sIFstMC4yMTYyMSwgNTEuNTEwMDRdLCBbLTAuMjE2MDIsIDUxLjUwOTYxXSwgWy0wLjIxNTg0LCA1MS41MDkxOV0sIFstMC4yMTU1OSwgNTEuNTA4NDddLCBbLTAuMjE1NDEsIDUxLjUwODA4XSwgWy0wLjIxNDM3LCA1MS41MDU5OF0sIFstMC4yMTQxNSwgNTEuNTA2XSwgWy0wLjIxMzgyLCA1MS41MDU5OV0sIFstMC4yMTM1LCA1MS41MDU5NF0sIFstMC4yMTMyMiwgNTEuNTA1ODVdLCBbLTAuMjEyOTQsIDUxLjUwNTY5XSwgWy0wLjIxMjg3LCA1MS41MDU1OV0sIFstMC4yMTI4OCwgNTEuNTA1NDRdLCBbLTAuMjEyODgsIDUxLjUwNTM2XSwgWy0wLjIxMjg0LCA1MS41MDUyOV0sIFstMC4yMTI2MywgNTEuNTA0OThdLCBbLTAuMjEyNTcsIDUxLjUwNDk1XSwgWy0wLjIxMjQ2LCA1MS41MDQ4M10sIFstMC4yMTIyNiwgNTEuNTA0NjZdLCBbLTAuMjEyMDEsIDUxLjUwNDU0XSwgWy0wLjIxMTcsIDUxLjUwNDQzXSwgWy0wLjIxMDkzLCA1MS41MDQyNV0sIFstMC4yMTA3OSwgNTEuNTA0MjRdLCBbLTAuMjEwNjksIDUxLjUwNDFdLCBbLTAuMjA5NTEsIDUxLjUwMjcxXSwgWy0wLjIwODQ2LCA1MS41MDE0NV0sIFstMC4yMDgzLCA1MS41MDEwNV0sIFstMC4yMDc5OCwgNTEuNTAwMTVdLCBbLTAuMjA3MTksIDUxLjUwMDMxXSwgWy0wLjIwNzEyLCA1MS41MDAzMV0sIFstMC4yMDY5NSwgNTEuNTAwMjldLCBbLTAuMjA2NDYsIDUxLjUwMDQzXSwgWy0wLjIwNjM5LCA1MS41MDA0OF0sIFstMC4yMDYyNiwgNTEuNTAwNV0sIFstMC4yMDYsIDUxLjUwMDU1XSwgWy0wLjIwNTU1LCA1MS41MDA2Nl0sIFstMC4yMDU0NiwgNTEuNTAwNjhdLCBbLTAuMjA1MjgsIDUxLjUwMDUyXSwgWy0wLjIwNTA3LCA1MS41MDAzMV0sIFstMC4yMDQ3NSwgNTEuNTAwMDFdLCBbLTAuMjA0NTEsIDUxLjQ5OTc4XSwgWy0wLjIwNDEzLCA1MS40OTkzNV0sIFstMC4yMDQwOCwgNTEuNDk5MzRdLCBbLTAuMjA0MDMsIDUxLjQ5OTM1XSwgWy0wLjIwMzA3LCA1MS40OTk2Nl0sIFstMC4yMDI5MywgNTEuNDk5NjldLCBbLTAuMjAyNzcsIDUxLjQ5OTY4XSwgWy0wLjIwMjQ2LCA1MS40OTk2XSwgWy0wLjIwMjI1LCA1MS40OTk0OF0sIFstMC4yMDIwNCwgNTEuNDk5MzFdLCBbLTAuMjAxODQsIDUxLjQ5OTEyXSwgWy0wLjIwMTUzLCA1MS40OTg3Ml0sIFstMC4yMDEyMywgNTEuNDk4MzRdLCBbLTAuMjAwOTgsIDUxLjQ5ODQyXSwgWy0wLjIwMDUsIDUxLjQ5ODU4XSwgWy0wLjE5OTQ5LCA1MS40OTg4M10sIFstMC4xOTg3NiwgNTEuNDk5XSwgWy0wLjE5ODQ0LCA1MS40OTkxMl0sIFstMC4xOTc2NywgNTEuNDk5MzhdLCBbLTAuMTk3NiwgNTEuNDk5NDRdLCBbLTAuMTk3NSwgNTEuNDk5NDldLCBbLTAuMTk3MjcsIDUxLjQ5OTU4XSwgWy0wLjE5NTQsIDUxLjUwMDI1XSwgWy0wLjE5NDM4LCA1MS41MDA2Ml0sIFstMC4xOTM4NywgNTEuNTAwOF0sIFstMC4xOTI3NCwgNTEuNTAxMl0sIFstMC4xOTE3LCA1MS41MDE2OV0sIFstMC4xOTE0NiwgNTEuNTAxNzNdLCBbLTAuMTkxMTQsIDUxLjUwMTg4XSwgWy0wLjE5MTAyLCA1MS41MDE5M10sIFstMC4xOTA3MiwgNTEuNTAyMDFdLCBbLTAuMTkwMjQsIDUxLjUwMjEyXSwgWy0wLjE4OTY1LCA1MS41MDIyMV0sIFstMC4xODkyMywgNTEuNTAyMzJdLCBbLTAuMTg4NzYsIDUxLjUwMjRdLCBbLTAuMTg4NTgsIDUxLjUwMjQxXSwgWy0wLjE4ODQsIDUxLjUwMjM5XSwgWy0wLjE4Nzc2LCA1MS41MDIzNl0sIFstMC4xODY4NywgNTEuNTAyMjZdLCBbLTAuMTg1NTYsIDUxLjUwMjA2XSwgWy0wLjE4MzY0LCA1MS41MDE2OF0sIFstMC4xODMwNiwgNTEuNTAxNThdLCBbLTAuMTgyNTQsIDUxLjUwMTUyXSwgWy0wLjE4MTg2LCA1MS41MDE0NV0sIFstMC4xODEzNywgNTEuNTAxNDRdLCBbLTAuMTgwNzUsIDUxLjUwMTQ0XSwgWy0wLjE4MDM5LCA1MS41MDE0Nl0sIFstMC4xODAzLCA1MS41MDE0N10sIFstMC4xODAzNCwgNTEuNTAxNzhdLCBbLTAuMTc4MjksIDUxLjUwMTkzXSwgWy0wLjE3NjkyLCA1MS41MDIwNV0sIFstMC4xNzUyNiwgNTEuNTAyMTVdLCBbLTAuMTczODMsIDUxLjUwMjE2XSwgWy0wLjE2ODQxLCA1MS41MDIyMl0sIFstMC4xNjYyNCwgNTEuNTAyMjRdLCBbLTAuMTY1MzMsIDUxLjUwMjI3XSwgWy0wLjE2MjA2LCA1MS41MDI0OV0sIFstMC4xNTc2NSwgNTEuNTAyODFdLCBbLTAuMTUzODksIDUxLjUwMzE1XSwgWy0wLjE1MzQ3LCA1MS41MDMyMV0sIFstMC4xNTMyOSwgNTEuNTAzMjVdLCBbLTAuMTUzMDgsIDUxLjUwMzMzXSwgWy0wLjE1Mjg5LCA1MS41MDM0M10sIFstMC4xNTI4LCA1MS41MDM1XSwgWy0wLjE1MjczLCA1MS41MDM0N10sIFstMC4xNTI1OCwgNTEuNTAzMjFdLCBbLTAuMTUyNDksIDUxLjUwM10sIFstMC4xNTI0NiwgNTEuNTAyOTZdLCBbLTAuMTUyMjUsIDUxLjUwMjkyXSwgWy0wLjE1MTk4LCA1MS41MDI4OV0sIFstMC4xNTE5MiwgNTEuNTAyODJdLCBbLTAuMTUxODcsIDUxLjUwMjc0XSwgWy0wLjE1MTc3LCA1MS41MDI1OV0sIFstMC4xNTAyNywgNTEuNTAyNTJdLCBbLTAuMTQ5ODIsIDUxLjUwMjY3XSwgWy0wLjE0OTUyLCA1MS41MDI2Ml0sIFstMC4xNDg4NSwgNTEuNTAyNTldLCBbLTAuMTQ1NjgsIDUxLjUwMjQ3XSwgWy0wLjE0MTk3LCA1MS41MDIzMl0sIFstMC4xNDE5MywgNTEuNTAyMzZdLCBbLTAuMTQxNjgsIDUxLjUwMjQ4XSwgWy0wLjE0MTE3LCA1MS41MDI2N10sIFstMC4xNDA5OCwgNTEuNTAyNzJdLCBbLTAuMTQwNTIsIDUxLjUwMjc1XSwgWy0wLjE0MDA0LCA1MS41MDI2OF0sIFstMC4xMzk4NSwgNTEuNTAyNjFdLCBbLTAuMTM5NjMsIDUxLjUwMjUxXSwgWy0wLjEzNzkyLCA1MS41MDMxOV0sIFstMC4xMzU5NiwgNTEuNTA0MDJdLCBbLTAuMTMzNTgsIDUxLjUwNTAxXSwgWy0wLjEzMTM4LCA1MS41MDU5MV0sIFstMC4xMzExOCwgNTEuNTA1NzJdLCBbLTAuMTMwOTksIDUxLjUwNThdLCBbLTAuMTMwNDQsIDUxLjUwNjA0XSwgWy0wLjEyODk2LCA1MS41MDY2Nl0sIFstMC4xMjg3NSwgNTEuNTA2NzldLCBbLTAuMTI4MTcsIDUxLjUwNzA2XSwgWy0wLjEyODEsIDUxLjUwNzEyXSwgWy0wLjEyODAyLCA1MS41MDcyMV0sIFstMC4xMjc5OSwgNTEuNTA3MjddLCBbLTAuMTI4MDEsIDUxLjUwNzI5XSwgWy0wLjEyODAyLCA1MS41MDczNF0sIFstMC4xMjgwMywgNTEuNTA3NF0sIFstMC4xMjc5OCwgNTEuNTA3NDhdLCBbLTAuMTI3ODMsIDUxLjUwNzU5XSwgWy0wLjEyNzY3LCA1MS41MDc2Ml0sIFstMC4xMjc0OCwgNTEuNTA3NTZdLCBbLTAuMTI3MywgNTEuNTA3NDldLCBbLTAuMTI3MjksIDUxLjUwNzRdLCBbLTAuMTI3MzIsIDUxLjUwNzMzXSwgWy0wLjEyNzM2LCA1MS41MDcyOV0sIFstMC4xMjc0MiwgNTEuNTA3MjVdLCBbLTAuMTI3NDQsIDUxLjUwNzE0XSwgWy0wLjEyNzQyLCA1MS41MDcwNV0sIFstMC4xMjc0MSwgNTEuNTA3MDJdLCBbLTAuMTI3NDMsIDUxLjUwNjk0XSwgWy0wLjEyNzMsIDUxLjUwNjY1XSwgWy0wLjEyNzEzLCA1MS41MDYzXSwgWy0wLjEyNzEsIDUxLjUwNjI5XSwgWy0wLjEyNzA2LCA1MS41MDYyNl0sIFstMC4xMjY4MSwgNTEuNTA1ODddLCBbLTAuMTI2NTYsIDUxLjUwNTM0XSwgWy0wLjEyNjQyLCA1MS41MDUwMV0sIFstMC4xMjYzMywgNTEuNTA0ODNdLCBbLTAuMTI2MTEsIDUxLjUwNDg2XSwgWy0wLjEyNTg4LCA1MS41MDQ5XSwgWy0wLjEyNTYyLCA1MS41MDQ5NF0sIFstMC4xMjUzLCA1MS41MDQ5N10sIFstMC4xMjQ5NiwgNTEuNTA0OTZdLCBbLTAuMTIzNzQsIDUxLjUwNDc2XSwgWy0wLjEyMzQyLCA1MS41MDQ3XSwgWy0wLjEyMzI2LCA1MS41MDQ2N10sIFstMC4xMjMxOCwgNTEuNTA0ODZdLCBbLTAuMTIyOTcsIDUxLjUwNTQ4XSwgWy0wLjEyMjkxLCA1MS41MDU2M10sIFstMC4xMjI3MSwgNTEuNTA2MDhdLCBbLTAuMTIyNDQsIDUxLjUwNjQ4XSwgWy0wLjEyMjI1LCA1MS41MDY3OF0sIFstMC4xMjE4OCwgNTEuNTA3MjNdLCBbLTAuMTIxMjEsIDUxLjUwODA1XSwgWy0wLjEyMDc4LCA1MS41MDg0N10sIFstMC4xMjAyMiwgNTEuNTA4OV0sIFstMC4xMTk3MywgNTEuNTA5MjJdLCBbLTAuMTE4OTcsIDUxLjUwOTYxXSwgWy0wLjExODU4LCA1MS41MDk3OF0sIFstMC4xMTc5LCA1MS41MTAwMV0sIFstMC4xMTY0NSwgNTEuNTEwNDRdLCBbLTAuMTE1MjMsIDUxLjUxMDY5XSwgWy0wLjExNDM3LCA1MS41MTA4M10sIFstMC4xMTMzLCA1MS41MTA5N10sIFstMC4xMTIzOCwgNTEuNTExMDZdLCBbLTAuMTExMjgsIDUxLjUxMTA5XSwgWy0wLjEwODExLCA1MS41MTEwOF0sIFstMC4xMDQ4MiwgNTEuNTExMDddLCBbLTAuMTAzMDIsIDUxLjUxMTAzXSwgWy0wLjEwMjQxLCA1MS41MTEwNl0sIFstMC4xMDE3NywgNTEuNTExMTJdLCBbLTAuMTAxMjgsIDUxLjUxMTE5XSwgWy0wLjEwMDkyLCA1MS41MTEyNV0sIFstMC4xMDA1NCwgNTEuNTExMjhdLCBbLTAuMDk4NTYsIDUxLjUxMTI2XSwgWy0wLjA5NTk5LCA1MS41MTEyMV0sIFstMC4wOTUxLCA1MS41MTExN10sIFstMC4wOTMwNCwgNTEuNTEwOTFdLCBbLTAuMDkyNzcsIDUxLjUxMDgzXSwgWy0wLjA5MjQzLCA1MS41MTA3N10sIFstMC4wOTIxNiwgNTEuNTEwNzJdLCBbLTAuMDkxMiwgNTEuNTEwNTRdLCBbLTAuMDg5ODksIDUxLjUxMDNdLCBbLTAuMDg4NywgNTEuNTA5OThdLCBbLTAuMDg4MjYsIDUxLjUwOTg3XSwgWy0wLjA4Njk0LCA1MS41MDk2OV0sIFstMC4wODM4NSwgNTEuNTA5MjldLCBbLTAuMDgyNDMsIDUxLjUwOTEyXSwgWy0wLjA4MTk5LCA1MS41MDkwOV0sIFstMC4wODE1MSwgNTEuNTA5MTJdLCBbLTAuMDgxMTYsIDUxLjUwOTE4XSwgWy0wLjA4MDc0LCA1MS41MDkzXSwgWy0wLjA4MDM3LCA1MS41MDk0OV0sIFstMC4wODAwOCwgNTEuNTA5NjFdLCBbLTAuMDc5OTMsIDUxLjUwOTY0XSwgWy0wLjA3OTYsIDUxLjUwOTY2XSwgWy0wLjA3OTA2LCA1MS41MDk2NV0sIFstMC4wNzg2NiwgNTEuNTA5NjJdLCBbLTAuMDc4NDEsIDUxLjUwOTU4XSwgWy0wLjA3Nzk3LCA1MS41MDk0OF0sIFstMC4wNzc3MywgNTEuNTA5NDddLCBbLTAuMDc2MzgsIDUxLjUwOTU1XSwgWy0wLjA3NTkxLCA1MS41MDk2M10sIFstMC4wNzUxNiwgNTEuNTA5ODRdLCBbLTAuMDc0ODEsIDUxLjUwOTk1XSwgWy0wLjA3NDY1LCA1MS41MDk5OV0sIFstMC4wNzQ1NSwgNTEuNTA5OThdLCBbLTAuMDc0NCwgNTEuNTA5OTZdLCBbLTAuMDc0MDYsIDUxLjUxMDA3XSwgWy0wLjA3Mzg4LCA1MS41MTAxXSwgWy0wLjA3MzQ0LCA1MS41MTAxMV0sIFstMC4wNzMsIDUxLjUxMDEyXSwgWy0wLjA3Mjg1LCA1MS41MTAxNV0sIFstMC4wNzI0NiwgNTEuNTEwMThdLCBbLTAuMDcxNTYsIDUxLjUxMDI4XSwgWy0wLjA3MDYyLCA1MS41MTA0Nl0sIFstMC4wNzAxNSwgNTEuNTEwNTZdLCBbLTAuMDY5NTIsIDUxLjUxMDddLCBbLTAuMDY5MSwgNTEuNTEwNzZdLCBbLTAuMDY4NTQsIDUxLjUxMDgyXSwgWy0wLjA2Nzc0LCA1MS41MTA4N10sIFstMC4wNjY4NCwgNTEuNTEwOTVdLCBbLTAuMDY2ODYsIDUxLjUxMTRdLCBbLTAuMDY2ODksIDUxLjUxMTc4XSwgWy0wLjA2Njk5LCA1MS41MTI0XSwgWy0wLjA2NzA3LCA1MS41MTI4OF0sIFstMC4wNjcxLCA1MS41MTMxOV0sIFstMC4wNjcwNywgNTEuNTEzMzFdLCBbLTAuMDY2ODQsIDUxLjUxMzYyXSwgWy0wLjA2NjY3LCA1MS41MTM4Nl0sIFstMC4wNjY2MiwgNTEuNTEzOTZdLCBbLTAuMDY2NTUsIDUxLjUxNDM2XSwgWy0wLjA2NjUyLCA1MS41MTQ2N10sIFstMC4wNjY1MSwgNTEuNTE0ODZdLCBbLTAuMDY2MzgsIDUxLjUxNDg1XSwgWy0wLjA2NjM4LCA1MS41MTUxMl0sIFstMC4wNjY0LCA1MS41MTUyNF0sIFstMC4wNjY0OCwgNTEuNTE1NDJdLCBbLTAuMDY3MjEsIDUxLjUxNTM4XSwgWy0wLjA2NzQzLCA1MS41MTU3MV0sIFstMC4wNjc2MSwgNTEuNTE2MDFdLCBbLTAuMDY3NzQsIDUxLjUxNjE2XSwgWy0wLjA2ODI5LCA1MS41MTY3M10sIFstMC4wNjgwMSwgNTEuNTE2ODVdLCBbLTAuMDY3ODcsIDUxLjUxNjkxXSwgWy0wLjA2ODA1LCA1MS41MTcwNl0sIFstMC4wNjgyLCA1MS41MTcxOV0sIFstMC4wNjgyNiwgNTEuNTE3MjFdLCBbLTAuMDY4NDIsIDUxLjUxNzIzXSwgWy0wLjA2ODU4LCA1MS41MTcyNV0sIFstMC4wNjg3OSwgNTEuNTE3MjhdLCBbLTAuMDY4ODcsIDUxLjUxNzM1XSwgWy0wLjA2ODk1LCA1MS41MTc0NV0sIFstMC4wNjkwNiwgNTEuNTE3NTldLCBbLTAuMDY4OTgsIDUxLjUxNzYxXSwgWy0wLjA2ODgyLCA1MS41MTc2NF0sIFstMC4wNjgxMSwgNTEuNTE3ODVdLCBbLTAuMDY3OTIsIDUxLjUxNzkxXV19LCAicHJvcGVydGllcyI6IHsiY29sb3IiOiAiIzgwMDA4MCIsICJ3ZWlnaHQiOiA2LjAsICJvcGFjaXR5IjogbnVsbCwgImRhc2hBcnJheSI6ICIxMCwwIn19LCB7InR5cGUiOiAiRmVhdHVyZSIsICJnZW9tZXRyeSI6IHsidHlwZSI6ICJQb2ludCIsICJjb29yZGluYXRlcyI6IFstMC4wNjc5MzcsIDUxLjUxNzkzXX0sICJwcm9wZXJ0aWVzIjogeyJodG1sIjogIjxzdmcgd2lkdGg9XCI1NHB4XCIgaGVpZ2h0PVwiNTFweFwiIHZpZXdCb3g9XCItMjcuMCAtMjcuNjM1MjU0OTE1NjI0MjEgNTQuMCA1MS4wXCIgeG1sbnM9XCJodHRwOi8vd3d3LnczLm9yZy8yMDAwL3N2Z1wiIHZlcnNpb249XCIxLjFcIj4gIDxwYXRoIGQ9XCJNIDEuMzY5MTk2NzQ1NjYwNTA2OGUtMTUgLTIyLjM2MDY3OTc3NDk5Nzg5OCBMIC01LjAyMDI4NTI0OTI5MjQyNCAtNi45MDk4Mjk4NTI3MzQyMTIgTCAtMjEuMjY2MjcwMjA4ODAxIC02LjkwOTgzMDA1NjI1MDUyOCBMIC04LjEyMjk5MjE2NjU3NDg4NCAyLjYzOTMyMDE0NzI2NTc4NzcgTCAtMTMuMTQzMjc3ODAyOTc4MzQzIDE4LjA5MDE2OTk0Mzc0OTQ3MyBMIC0xLjU2ODk1OTgxMjQ1ODg4MzJlLTE1IDguNTQxMDE5NDEwOTM2ODQ4IEwgMTMuMTQzMjc3ODAyOTc4MzM2IDE4LjA5MDE2OTk0Mzc0OTQ4IEwgOC4xMjI5OTIxNjY1NzQ4ODQgMi42MzkzMjAxNDcyNjU3OTAzIEwgMjEuMjY2MjcwMjA4ODAxIC02LjkwOTgzMDA1NjI1MDUyIEwgNS4wMjAyODUyNDkyOTI0MjcgLTYuOTA5ODI5ODUyNzM0MjExNSBaXCIgc3Ryb2tlPVwiIzgwMDA4MFwiIHN0cm9rZS13aWR0aD1cIjEuMFwiIHN0cm9rZS1vcGFjaXR5PVwiTm9uZVwiIGZpbGw9XCIjODAwMDgwXCIgZmlsbC1vcGFjaXR5PVwiTm9uZVwiIC8+PC9zdmc+IiwgImFuY2hvcl94IjogMjcuMCwgImFuY2hvcl95IjogMjcuNjM1MjU0OTE1NjI0MjF9fSwgeyJ0eXBlIjogIkZlYXR1cmUiLCAiZ2VvbWV0cnkiOiB7InR5cGUiOiAiUG9pbnQiLCAiY29vcmRpbmF0ZXMiOiBbLTAuMjE5NDg2LCA1MS41MTI5ODFdfSwgInByb3BlcnRpZXMiOiB7Imh0bWwiOiAiPHN2ZyB3aWR0aD1cIjU0cHhcIiBoZWlnaHQ9XCI1MXB4XCIgdmlld0JveD1cIi0yNy4wIC0yNy42MzUyNTQ5MTU2MjQyMSA1NC4wIDUxLjBcIiB4bWxucz1cImh0dHA6Ly93d3cudzMub3JnLzIwMDAvc3ZnXCIgdmVyc2lvbj1cIjEuMVwiPiAgPHBhdGggZD1cIk0gMS4zNjkxOTY3NDU2NjA1MDY4ZS0xNSAtMjIuMzYwNjc5Nzc0OTk3ODk4IEwgLTUuMDIwMjg1MjQ5MjkyNDI0IC02LjkwOTgyOTg1MjczNDIxMiBMIC0yMS4yNjYyNzAyMDg4MDEgLTYuOTA5ODMwMDU2MjUwNTI4IEwgLTguMTIyOTkyMTY2NTc0ODg0IDIuNjM5MzIwMTQ3MjY1Nzg3NyBMIC0xMy4xNDMyNzc4MDI5NzgzNDMgMTguMDkwMTY5OTQzNzQ5NDczIEwgLTEuNTY4OTU5ODEyNDU4ODgzMmUtMTUgOC41NDEwMTk0MTA5MzY4NDggTCAxMy4xNDMyNzc4MDI5NzgzMzYgMTguMDkwMTY5OTQzNzQ5NDggTCA4LjEyMjk5MjE2NjU3NDg4NCAyLjYzOTMyMDE0NzI2NTc5MDMgTCAyMS4yNjYyNzAyMDg4MDEgLTYuOTA5ODMwMDU2MjUwNTIgTCA1LjAyMDI4NTI0OTI5MjQyNyAtNi45MDk4Mjk4NTI3MzQyMTE1IFpcIiBzdHJva2U9XCIjODAwMDgwXCIgc3Ryb2tlLXdpZHRoPVwiMS4wXCIgc3Ryb2tlLW9wYWNpdHk9XCJOb25lXCIgZmlsbD1cIiM4MDAwODBcIiBmaWxsLW9wYWNpdHk9XCJOb25lXCIgLz48L3N2Zz4iLCAiYW5jaG9yX3giOiAyNy4wLCAiYW5jaG9yX3kiOiAyNy42MzUyNTQ5MTU2MjQyMX19XX07CgppZiAoZ2pEYXRhLmZlYXR1cmVzLmxlbmd0aCAhPSAwKSB7CiAgdmFyIGdqID0gTC5nZW9Kc29uKGdqRGF0YSwgewogICAgc3R5bGU6IGZ1bmN0aW9uIChmZWF0dXJlKSB7CiAgICAgIHJldHVybiBmZWF0dXJlLnByb3BlcnRpZXM7CiAgICB9LAogICAgcG9pbnRUb0xheWVyOiBmdW5jdGlvbiAoZmVhdHVyZSwgbGF0bG5nKSB7CiAgICAgIHZhciBpY29uID0gTC5kaXZJY29uKHsnaHRtbCc6IGZlYXR1cmUucHJvcGVydGllcy5odG1sLCAKICAgICAgICBpY29uQW5jaG9yOiBbZmVhdHVyZS5wcm9wZXJ0aWVzLmFuY2hvcl94LCAKICAgICAgICAgICAgICAgICAgICAgZmVhdHVyZS5wcm9wZXJ0aWVzLmFuY2hvcl95XSwgCiAgICAgICAgICBjbGFzc05hbWU6ICdlbXB0eSd9KTsgIC8vIFdoYXQgY2FuIEkgZG8gYWJvdXQgZW1wdHk/CiAgICAgIHJldHVybiBMLm1hcmtlcihsYXRsbmcsIHtpY29uOiBpY29ufSk7CiAgICB9CiAgfSk7CiAgZ2ouYWRkVG8obWFwKTsKICAKICBtYXAuZml0Qm91bmRzKGdqLmdldEJvdW5kcygpKTsKfSBlbHNlIHsKICBtYXAuc2V0VmlldyhbMCwgMF0sIDEpOwp9Cjwvc2NyaXB0Pgo8L2JvZHk+\" width=\"100%\" height=\"600\"></iframe>"
      ],
      "text/plain": [
       "<IPython.core.display.HTML object>"
      ]
     },
     "execution_count": 4,
     "metadata": {},
     "output_type": "execute_result"
    }
   ],
   "source": [
    "fig,ax=plt.subplots(figsize=(10,10))\n",
    "#line_gdf.plot(ax=ax, color='purple')\n",
    "\n",
    "route.plot(ax=ax, color='purple', linewidth=6.0)\n",
    "\n",
    "df.plot(ax=ax, markersize=2000, marker='*', color='purple')\n",
    "mplleaflet.display(fig=fig, crs=df.crs, tiles='stamen_wc')\n"
   ]
  },
  {
   "cell_type": "code",
   "execution_count": null,
   "metadata": {},
   "outputs": [],
   "source": []
  }
 ],
 "metadata": {
  "celltoolbar": "Tags",
  "kernelspec": {
   "display_name": "Python 3",
   "language": "python",
   "name": "python3"
  },
  "language_info": {
   "codemirror_mode": {
    "name": "ipython",
    "version": 3
   },
   "file_extension": ".py",
   "mimetype": "text/x-python",
   "name": "python",
   "nbconvert_exporter": "python",
   "pygments_lexer": "ipython3",
   "version": "3.7.1"
  }
 },
 "nbformat": 4,
 "nbformat_minor": 2
}
