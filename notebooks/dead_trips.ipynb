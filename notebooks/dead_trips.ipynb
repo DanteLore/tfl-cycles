{
 "cells": [
  {
   "cell_type": "code",
   "execution_count": 1,
   "metadata": {},
   "outputs": [],
   "source": [
    "import random\n",
    "import pandas as pd\n",
    "import geopandas as gpd\n",
    "import matplotlib.dates as mdates\n",
    "import matplotlib.pyplot as plt\n",
    "import mplleaflet\n",
    "import seaborn as sns\n",
    "from pyspark.sql import SparkSession\n",
    "from pyspark.sql import types as T\n",
    "from shapely.geometry import Point, Polygon, LineString\n",
    "from IPython.display import Markdown\n",
    "\n",
    "\n",
    "palette = sns.color_palette(\"colorblind\", 20)\n",
    "\n",
    "\n",
    "def to_geo(df, x_field='longitude', y_field='latitude'):\n",
    "    geometry = [Point(xy) for xy in zip(df[x_field], df[y_field])]\n",
    "    return gpd.GeoDataFrame(df, geometry=geometry)\n",
    "\n",
    "\n",
    "spark = (\n",
    "    SparkSession.builder\n",
    "        .master(\"local\")\n",
    "        .appName(\"TFL Notebook\")\n",
    "        .config('spark.executor.memory', '8G')\n",
    "        .config('spark.driver.memory', '16G')\n",
    "        .config('spark.driver.maxResultSize', '10G')\n",
    "        .config(\"spark.sql.crossJoin.enabled\", \"true\")\n",
    "        .getOrCreate()\n",
    ")\n",
    "\n",
    "BIKE_POINTS_FILE = \"../data/bike-points.csv\"\n",
    "\n",
    "schema = T.StructType([\n",
    "    T.StructField(\"idx\",       T.IntegerType(), False),\n",
    "    T.StructField(\"id\",        T.IntegerType(), False),\n",
    "    T.StructField(\"name\",      T.StringType(),  False),\n",
    "    T.StructField(\"latitude\",  T.DoubleType(),  False),\n",
    "    T.StructField(\"longitude\", T.DoubleType(),  False),\n",
    "    T.StructField(\"osgb_x\",    T.DoubleType(),  False),\n",
    "    T.StructField(\"osgb_y\",    T.DoubleType(),  False),\n",
    "    T.StructField(\"numdocks\",  T.LongType(),    False),\n",
    "    T.StructField(\"num_bikes\", T.LongType(),    False),\n",
    "    T.StructField(\"num_empty\", T.LongType(),    False)\n",
    "])\n",
    "bike_points = spark.read.csv(BIKE_POINTS_FILE, schema=schema, header='true', mode=\"PERMISSIVE\")\n",
    "bike_points.createOrReplaceTempView(\"bike_points\")\n",
    "\n",
    "trips = spark.read.parquet(\"../data/parquet_trip\")\n",
    "trips.createOrReplaceTempView(\"trips\")\n",
    "\n",
    "trip_counts = spark.sql(\"\"\"\n",
    "    select start_station_name, end_station_name, count(*) as trip_count, sum(duration) as duration\n",
    "    from trips \n",
    "    group by start_station_name, end_station_name\n",
    "\"\"\")\n",
    "trip_counts.createOrReplaceTempView(\"trip_counts\")\n",
    "\n",
    "# Get the names only\n",
    "spark.sql(\"\"\"\n",
    "    select name from bike_points\n",
    "\"\"\").createOrReplaceTempView(\"bike_point_names\")\n",
    "\n",
    "# Self cross join to get all the name:name combos\n",
    "spark.sql(\"\"\"\n",
    "    select \n",
    "        a.name as start_station_name, \n",
    "        b.name as end_station_name\n",
    "    from bike_point_names a \n",
    "    cross join bike_point_names b\n",
    "\"\"\").createOrReplaceTempView(\"possible_trips\")\n",
    "\n",
    "\n",
    "dead_trips = spark.sql(\"\"\"\n",
    "    select p.start_station_name, p.end_station_name\n",
    "    from possible_trips p\n",
    "    left outer join trip_counts c on (p.start_station_name = c.start_station_name and p.end_station_name = c.end_station_name)\n",
    "    where c.end_station_name is null\n",
    "\"\"\").sample(False, 0.01).collect()\n"
   ]
  },
  {
   "cell_type": "code",
   "execution_count": 2,
   "metadata": {},
   "outputs": [],
   "source": [
    "c = bike_points.count()\n",
    "expected = c * c\n",
    "\n",
    "actual = trip_counts.count()\n",
    "\n",
    "t = random.choice(dead_trips)"
   ]
  },
  {
   "cell_type": "code",
   "execution_count": 3,
   "metadata": {},
   "outputs": [],
   "source": [
    "tweet =(\"\"\"\n",
    "Did you know, out of the {0:,} possible trips on @TflCycles (there are {1} stations) a whopping {2:,} have never been recorded?\n",
    "\n",
    "Why not be the first to cycle from {3} to {4}?\n",
    "\n",
    "#OpenData\"\"\".format(expected, c, expected - actual, t[\"start_station_name\"], t[\"end_station_name\"]))\n"
   ]
  },
  {
   "cell_type": "code",
   "execution_count": 4,
   "metadata": {
    "scrolled": false
   },
   "outputs": [],
   "source": [
    "\n",
    "df = to_geo(spark.sql('''\n",
    "    select * from bike_points where name = \"{0}\" or name = \"{1}\"\n",
    "'''\n",
    "            .format(t[\"start_station_name\"], t[\"end_station_name\"]))\n",
    "            .toPandas()\n",
    "           )\n",
    "\n",
    "p1 = tuple(df.loc[df['name'] == t[\"start_station_name\"]][[\"longitude\", \"latitude\"]].values[0])\n",
    "p2 = tuple(df.loc[df['name'] == t[\"end_station_name\"]][[\"longitude\", \"latitude\"]].values[0])\n",
    "\n",
    "line = LineString([p1, p2])\n",
    "line_gdf = gpd.GeoDataFrame(geometry=[line])\n"
   ]
  },
  {
   "cell_type": "code",
   "execution_count": 6,
   "metadata": {},
   "outputs": [],
   "source": [
    "import googlemaps\n",
    "import keyring\n",
    "from datetime import datetime\n",
    "import polyline\n",
    "\n",
    "gmaps = googlemaps.Client(key=keyring.get_password('logicalgenetics', 'google'))\n",
    "\n",
    "directions_result = gmaps.directions(\"{1}, {0}\".format(*p1),\n",
    "                                     \"{1}, {0}\".format(*p2),\n",
    "                                     mode=\"bicycling\",\n",
    "                                     departure_time=datetime.now())\n",
    "\n",
    "encoded = directions_result[0]['overview_polyline']['points']\n",
    "points = [(lat, lon) for (lon, lat) in polyline.decode(encoded)]\n",
    "\n",
    "route = gpd.GeoDataFrame(pd.DataFrame([LineString(points)], columns=['geometry']))\n"
   ]
  },
  {
   "cell_type": "markdown",
   "metadata": {},
   "source": [
    "# Results"
   ]
  },
  {
   "cell_type": "code",
   "execution_count": 7,
   "metadata": {},
   "outputs": [
    {
     "data": {
      "text/markdown": [
       "\n",
       "Did you know, out of the 614,656 possible trips on @TflCycles (there are 784 stations) a whopping 62,229 have never been recorded?\n",
       "\n",
       "Why not be the first to cycle from Parkway, Camden Town to Gas Holders, Battersea Park?\n",
       "\n",
       "#OpenData"
      ],
      "text/plain": [
       "<IPython.core.display.Markdown object>"
      ]
     },
     "execution_count": 7,
     "metadata": {},
     "output_type": "execute_result"
    }
   ],
   "source": [
    "Markdown(tweet)"
   ]
  },
  {
   "cell_type": "code",
   "execution_count": 8,
   "metadata": {},
   "outputs": [
    {
     "data": {
      "text/html": [
       "<iframe src=\"data:text/html;base64,PGhlYWQ+CiAgICA8c2NyaXB0IHNyYz0iaHR0cHM6Ly9jZG5qcy5jbG91ZGZsYXJlLmNvbS9hamF4L2xpYnMvbGVhZmxldC8wLjcuMy9sZWFmbGV0LmpzIj48L3NjcmlwdD4KICAgIDxsaW5rIHJlbD0ic3R5bGVzaGVldCIgaHJlZj0iaHR0cHM6Ly9jZG5qcy5jbG91ZGZsYXJlLmNvbS9hamF4L2xpYnMvbGVhZmxldC8wLjcuMy9sZWFmbGV0LmNzcyIgLz4KICA8c3R5bGU+CiAgICAjbWFwZWI5MTFjYWY0Y2VkNGY0NThlMGM4NGRhMTA0ZWJjN2UgewogICAgICBoZWlnaHQ6MTAwJTsKICAgIH0KICA8L3N0eWxlPiAKPC9oZWFkPgo8Ym9keT4KICA8ZGl2IGlkPSJtYXBlYjkxMWNhZjRjZWQ0ZjQ1OGUwYzg0ZGExMDRlYmM3ZSI+PC9kaXY+CjxzY3JpcHQgdGV4dD0idGV4dC9qYXZhc2NyaXB0Ij4KdmFyIG1hcCA9IEwubWFwKCdtYXBlYjkxMWNhZjRjZWQ0ZjQ1OGUwYzg0ZGExMDRlYmM3ZScpOwpMLnRpbGVMYXllcigKICAiaHR0cDovL3tzfS50aWxlLnN0YW1lbi5jb20vd2F0ZXJjb2xvci97en0ve3h9L3t5fS5wbmciLAogIHttYXhab29tOjE5LCBhdHRyaWJ1dGlvbjogJzxhIGhyZWY9Imh0dHBzOi8vZ2l0aHViLmNvbS9qd2Fzcy9tcGxsZWFmbGV0Ij5tcGxsZWFmbGV0PC9hPiB8IE1hcCB0aWxlcyBieSA8YSBocmVmPSJodHRwOi8vc3RhbWVuLmNvbSI+U3RhbWVuIERlc2lnbjwvYT4sIDxhIGhyZWY9Imh0dHA6Ly9jcmVhdGl2ZWNvbW1vbnMub3JnL2xpY2Vuc2VzL2J5LzMuMCI+Q0MgQlkgMy4wPC9hPiAmbWRhc2g7IE1hcCBkYXRhICZjb3B5OyA8YSBocmVmPSJodHRwOi8vd3d3Lm9wZW5zdHJlZXRtYXAub3JnL2NvcHlyaWdodCI+T3BlblN0cmVldE1hcDwvYT4nfSkuYWRkVG8obWFwKTsKdmFyIGdqRGF0YSA9IHsidHlwZSI6ICJGZWF0dXJlQ29sbGVjdGlvbiIsICJmZWF0dXJlcyI6IFt7InR5cGUiOiAiRmVhdHVyZSIsICJnZW9tZXRyeSI6IHsidHlwZSI6ICJMaW5lU3RyaW5nIiwgImNvb3JkaW5hdGVzIjogW1stMC4xNDQ1OSwgNTEuNTM4MDNdLCBbLTAuMTQzOTIsIDUxLjUzODUzXSwgWy0wLjE0MzY2LCA1MS41Mzg2M10sIFstMC4xNDMwMywgNTEuNTM4ODNdLCBbLTAuMTQyNDUsIDUxLjUzOTAxXSwgWy0wLjE0MTc3LCA1MS41MzkwNF0sIFstMC4xNDE0MywgNTEuNTM5MTVdLCBbLTAuMTQwNTYsIDUxLjUzODIxXSwgWy0wLjE0MDI2LCA1MS41Mzc5M10sIFstMC4xMzk5MSwgNTEuNTM3NTldLCBbLTAuMTM5NzcsIDUxLjUzNzRdLCBbLTAuMTM4ODQsIDUxLjUzNjM5XSwgWy0wLjEzNzY2LCA1MS41MzUxXSwgWy0wLjEzNzM1LCA1MS41MzQ3Nl0sIFstMC4xMzc4MiwgNTEuNTM0NjNdLCBbLTAuMTM4MjgsIDUxLjUzNDUyXSwgWy0wLjEzODM3LCA1MS41MzQ0N10sIFstMC4xMzg0LCA1MS41MzQ0M10sIFstMC4xMzg0LCA1MS41MzQ0XSwgWy0wLjEzODM4LCA1MS41MzQzMV0sIFstMC4xMzcyMiwgNTEuNTMzMjVdLCBbLTAuMTM3MDcsIDUxLjUzMzExXSwgWy0wLjEzNzEsIDUxLjUzMzA4XSwgWy0wLjEzNzE2LCA1MS41MzMwNF0sIFstMC4xMzc3NCwgNTEuNTMyNzhdLCBbLTAuMTM4MDQsIDUxLjUzMjY4XSwgWy0wLjEzODI3LCA1MS41MzI2NF0sIFstMC4xMzg5NywgNTEuNTMyNTNdLCBbLTAuMTM5MSwgNTEuNTMyNDhdLCBbLTAuMTM5MTMsIDUxLjUzMjQ0XSwgWy0wLjEzOTE1LCA1MS41MzIzN10sIFstMC4xMzkwNywgNTEuNTMxOTldLCBbLTAuMTM4ODgsIDUxLjUzMTQ5XSwgWy0wLjEzODc3LCA1MS41MzExNl0sIFstMC4xMzg3MywgNTEuNTMxMDNdLCBbLTAuMTM4NTgsIDUxLjUzMDQxXSwgWy0wLjEzODU3LCA1MS41Mjk2Nl0sIFstMC4xMzg1NSwgNTEuNTI5MTRdLCBbLTAuMTM4NTcsIDUxLjUyODk3XSwgWy0wLjEzODYyLCA1MS41Mjg5XSwgWy0wLjEzODYyLCA1MS41Mjg4Nl0sIFstMC4xMzg2MywgNTEuNTI4MTNdLCBbLTAuMTM4NjIsIDUxLjUyNzE5XSwgWy0wLjEzODYxLCA1MS41MjYxMV0sIFstMC4xMzg1OSwgNTEuNTI2MDFdLCBbLTAuMTM4NTQsIDUxLjUyNTg5XSwgWy0wLjEzODM4LCA1MS41MjU2MV0sIFstMC4xMzgyMSwgNTEuNTI1MzddLCBbLTAuMTM4MTEsIDUxLjUyNTIzXSwgWy0wLjEzNzkxLCA1MS41MjUwMl0sIFstMC4xMzc3MywgNTEuNTI1MDJdLCBbLTAuMTM3NDUsIDUxLjUyNTAzXSwgWy0wLjEzNzM3LCA1MS41MjUwNF0sIFstMC4xMzY1LCA1MS41MjUzNV0sIFstMC4xMzYwNiwgNTEuNTI1NDddLCBbLTAuMTM1OTQsIDUxLjUyNTQ3XSwgWy0wLjEzNTg2LCA1MS41MjU0NV0sIFstMC4xMzU0NiwgNTEuNTI1MV0sIFstMC4xMzQ1NCwgNTEuNTI0MjNdLCBbLTAuMTMwMjEsIDUxLjUyMDI1XSwgWy0wLjEyOTIzLCA1MS41MTkzNF0sIFstMC4xMjc5MSwgNTEuNTE4MTRdLCBbLTAuMTI3NywgNTEuNTE3OTFdLCBbLTAuMTI3MzMsIDUxLjUxNzQzXSwgWy0wLjEyNjY5LCA1MS41MTY2OF0sIFstMC4xMjYyMiwgNTEuNTE2MTFdLCBbLTAuMTI2MDIsIDUxLjUxNTgxXSwgWy0wLjEyNjYxLCA1MS41MTU2NV0sIFstMC4xMjY3MywgNTEuNTE1NTZdLCBbLTAuMTI2NzcsIDUxLjUxNTUxXSwgWy0wLjEyNjgzLCA1MS41MTUzMl0sIFstMC4xMjY4OCwgNTEuNTE1Ml0sIFstMC4xMjY5NiwgNTEuNTE1MDddLCBbLTAuMTI3MDUsIDUxLjUxNDk2XSwgWy0wLjEyNzEzLCA1MS41MTQ4OF0sIFstMC4xMjcyMiwgNTEuNTE0ODVdLCBbLTAuMTI3NDUsIDUxLjUxNDZdLCBbLTAuMTI3ODEsIDUxLjUxNDI5XSwgWy0wLjEyODI0LCA1MS41MTM5NF0sIFstMC4xMjg1NCwgNTEuNTEzNzRdLCBbLTAuMTI4NjMsIDUxLjUxMzY4XSwgWy0wLjEyODY3LCA1MS41MTM2NF0sIFstMC4xMjg5NCwgNTEuNTEzNDJdLCBbLTAuMTI5MTQsIDUxLjUxMzI2XSwgWy0wLjEyODk2LCA1MS41MTI5N10sIFstMC4xMjg1NiwgNTEuNTEyMjhdLCBbLTAuMTI4NDMsIDUxLjUxMjAyXSwgWy0wLjEyODQxLCA1MS41MTE5NV0sIFstMC4xMjg0MSwgNTEuNTExODVdLCBbLTAuMTI4MzksIDUxLjUxMTY0XSwgWy0wLjEyODQxLCA1MS41MTEyNV0sIFstMC4xMjg0MiwgNTEuNTEwOTNdLCBbLTAuMTI4NCwgNTEuNTEwNThdLCBbLTAuMTI4MzQsIDUxLjUxMDMzXSwgWy0wLjEyODI5LCA1MS41MTAyM10sIFstMC4xMjgxOSwgNTEuNTEwMDddLCBbLTAuMTI4MDMsIDUxLjUwOTg3XSwgWy0wLjEyNzkyLCA1MS41MDk3N10sIFstMC4xMjc3NSwgNTEuNTA5NjddLCBbLTAuMTI3NDEsIDUxLjUwOTVdLCBbLTAuMTI3MjksIDUxLjUwOTI5XSwgWy0wLjEyNzI1LCA1MS41MDkxOF0sIFstMC4xMjcyMywgNTEuNTA4OThdLCBbLTAuMTI3MjMsIDUxLjUwODhdLCBbLTAuMTI3MjUsIDUxLjUwODY5XSwgWy0wLjEyNzI3LCA1MS41MDg1Ml0sIFstMC4xMjcyNCwgNTEuNTA4NF0sIFstMC4xMjcxMywgNTEuNTA4MDldLCBbLTAuMTI3MDUsIDUxLjUwNzk3XSwgWy0wLjEyNzAyLCA1MS41MDc3Nl0sIFstMC4xMjcwNCwgNTEuNTA3N10sIFstMC4xMjcxOSwgNTEuNTA3NTRdLCBbLTAuMTI3MywgNTEuNTA3NDldLCBbLTAuMTI3MjksIDUxLjUwNzRdLCBbLTAuMTI3MzIsIDUxLjUwNzMzXSwgWy0wLjEyNzM2LCA1MS41MDcyOV0sIFstMC4xMjc0MiwgNTEuNTA3MjVdLCBbLTAuMTI3NDQsIDUxLjUwNzE0XSwgWy0wLjEyNzQyLCA1MS41MDcwNV0sIFstMC4xMjc0MSwgNTEuNTA3MDJdLCBbLTAuMTI3NDMsIDUxLjUwNjk0XSwgWy0wLjEyNzEzLCA1MS41MDYzXSwgWy0wLjEyNzA0LCA1MS41MDYyNF0sIFstMC4xMjY5LCA1MS41MDYwMl0sIFstMC4xMjY3LCA1MS41MDU2NF0sIFstMC4xMjY0OSwgNTEuNTA1MTldLCBbLTAuMTI2MzMsIDUxLjUwNDgzXSwgWy0wLjEyNjIyLCA1MS41MDQ0OF0sIFstMC4xMjYxNCwgNTEuNTA0MTldLCBbLTAuMTI2LCA1MS41MDMxNV0sIFstMC4xMjU5NywgNTEuNTAyODZdLCBbLTAuMTI1OTYsIDUxLjUwMjY4XSwgWy0wLjEyNTk4LCA1MS41MDIyNF0sIFstMC4xMjU5OSwgNTEuNTAyMTFdLCBbLTAuMTI2MDQsIDUxLjUwMjAyXSwgWy0wLjEyNjEzLCA1MS41MDEyOF0sIFstMC4xMjYxMSwgNTEuNTAwOTldLCBbLTAuMTI2MTQsIDUxLjUwMDYyXSwgWy0wLjEyNjEyLCA1MS41MDA0OF0sIFstMC4xMjYyMSwgNTEuNTAwMzFdLCBbLTAuMTI2MjgsIDUxLjUwMDI3XSwgWy0wLjEyNjMzLCA1MS41MDAyNV0sIFstMC4xMjYzNywgNTEuNTAwMjNdLCBbLTAuMTI2NDgsIDUxLjUwMDIyXSwgWy0wLjEyNjk3LCA1MS41MDAyNV0sIFstMC4xMjcyMiwgNTEuNTAwMl0sIFstMC4xMjc0NSwgNTEuNTAwMTZdLCBbLTAuMTI3NzMsIDUxLjUwMDEyXSwgWy0wLjEyODEzLCA1MS41MDAwMV0sIFstMC4xMjg2NCwgNTEuNDk5ODRdLCBbLTAuMTI4ODksIDUxLjQ5OTcyXSwgWy0wLjEyOTA1LCA1MS40OTk2N10sIFstMC4xMjkxMiwgNTEuNDk5NjZdLCBbLTAuMTI5NzMsIDUxLjQ5OTRdLCBbLTAuMTI5ODEsIDUxLjQ5OTM4XSwgWy0wLjEyOTc3LCA1MS40OTkzXSwgWy0wLjEyOTc1LCA1MS40OTkyNl0sIFstMC4xMjk3NSwgNTEuNDk5MTldLCBbLTAuMTI5OTUsIDUxLjQ5ODUzXSwgWy0wLjEyOTk3LCA1MS40OTgzNl0sIFstMC4xMjk4OSwgNTEuNDk4MTNdLCBbLTAuMTI5OCwgNTEuNDk4XSwgWy0wLjEyOTY2LCA1MS40OTc4OF0sIFstMC4xMjk1NSwgNTEuNDk3NzhdLCBbLTAuMTI5NSwgNTEuNDk3NjVdLCBbLTAuMTI5MzksIDUxLjQ5NzA5XSwgWy0wLjEyOTM3LCA1MS40OTY5Nl0sIFstMC4xMjkzNCwgNTEuNDk2NThdLCBbLTAuMTI5MjUsIDUxLjQ5NTk0XSwgWy0wLjEyOTA0LCA1MS40OTQ4NV0sIFstMC4xMjg5OSwgNTEuNDkzNTldLCBbLTAuMTI4OTcsIDUxLjQ5MjgzXSwgWy0wLjEyNzkzLCA1MS40OTI1XSwgWy0wLjEyODQ1LCA1MS40OTE4Nl0sIFstMC4xMjk1NCwgNTEuNDkwNTZdLCBbLTAuMTI5OTMsIDUxLjQ5MDA1XSwgWy0wLjEzMDU2LCA1MS40ODk1M10sIFstMC4xMzA4MiwgNTEuNDg5MzJdLCBbLTAuMTMwMjgsIDUxLjQ4OTA3XSwgWy0wLjEyOTgyLCA1MS40ODg4Nl0sIFstMC4xMjkzNywgNTEuNDg4NjhdLCBbLTAuMTI5NDgsIDUxLjQ4ODU5XSwgWy0wLjEyOTg5LCA1MS40ODgyNF0sIFstMC4xMzAyLCA1MS40ODc5MV0sIFstMC4xMzA0MywgNTEuNDg3NTldLCBbLTAuMTMwNjksIDUxLjQ4NzEyXSwgWy0wLjEzMDgxLCA1MS40ODY5Ml0sIFstMC4xMzA5MiwgNTEuNDg2NzhdLCBbLTAuMTMxMTksIDUxLjQ4NjU3XSwgWy0wLjEzMTU1LCA1MS40ODYzOV0sIFstMC4xMzIzLCA1MS40ODYxNF0sIFstMC4xMzI4MywgNTEuNDg2XSwgWy0wLjEzMywgNTEuNDg2XSwgWy0wLjEzMzMxLCA1MS40ODU5NF0sIFstMC4xMzM4MiwgNTEuNDg1ODVdLCBbLTAuMTM0OTcsIDUxLjQ4NTY0XSwgWy0wLjEzNjM2LCA1MS40ODU0XSwgWy0wLjEzODQzLCA1MS40ODUwNF0sIFstMC4xMzkyLCA1MS40ODQ5M10sIFstMC4xMzk2NiwgNTEuNDg0OV0sIFstMC4xNDAwOSwgNTEuNDg0OTFdLCBbLTAuMTQxMTIsIDUxLjQ4NTA2XSwgWy0wLjE0Mjc2LCA1MS40ODUzNV0sIFstMC4xNDQyOSwgNTEuNDg1NTddLCBbLTAuMTQ2MDcsIDUxLjQ4NTc2XSwgWy0wLjE0NjkxLCA1MS40ODU3OF0sIFstMC4xNDg4OCwgNTEuNDg1NzddLCBbLTAuMTQ5MTQsIDUxLjQ4NTc2XSwgWy0wLjE0OTIzLCA1MS40ODU3NV0sIFstMC4xNDk3NiwgNTEuNDg1NzddLCBbLTAuMTUwMDEsIDUxLjQ4NTc2XSwgWy0wLjE1MDAxLCA1MS40ODU2M10sIFstMC4xNDk5OCwgNTEuNDg1MzFdLCBbLTAuMTQ5OSwgNTEuNDg0ODZdLCBbLTAuMTQ5NzYsIDUxLjQ4NDExXSwgWy0wLjE0OTUzLCA1MS40ODMyMV0sIFstMC4xNDkyNCwgNTEuNDgxNzNdLCBbLTAuMTQ4OSwgNTEuNDc5OTRdLCBbLTAuMTQ4NiwgNTEuNDc4MjhdLCBbLTAuMTQ4NTgsIDUxLjQ3ODE3XSwgWy0wLjE0ODUzLCA1MS40NzgxOF0sIFstMC4xNDg0NywgNTEuNDc4MTddLCBbLTAuMTQ4MzksIDUxLjQ3ODE2XSwgWy0wLjE0ODIsIDUxLjQ3ODA5XSwgWy0wLjE0ODEzLCA1MS40NzgwM10sIFstMC4xNDgwOSwgNTEuNDc3OTVdLCBbLTAuMTQ4MDksIDUxLjQ3NzkxXSwgWy0wLjE0Nzg2LCA1MS40Nzc5MV1dfSwgInByb3BlcnRpZXMiOiB7ImNvbG9yIjogIiM4MDAwODAiLCAid2VpZ2h0IjogNi4wLCAib3BhY2l0eSI6IG51bGwsICJkYXNoQXJyYXkiOiAiMTAsMCJ9fSwgeyJ0eXBlIjogIkZlYXR1cmUiLCAiZ2VvbWV0cnkiOiB7InR5cGUiOiAiUG9pbnQiLCAiY29vcmRpbmF0ZXMiOiBbLTAuMTQ0NjY0LCA1MS41MzgwNzFdfSwgInByb3BlcnRpZXMiOiB7Imh0bWwiOiAiPHN2ZyB3aWR0aD1cIjU0cHhcIiBoZWlnaHQ9XCI1MXB4XCIgdmlld0JveD1cIi0yNy4wIC0yNy42MzUyNTQ5MTU2MjQyMSA1NC4wIDUxLjBcIiB4bWxucz1cImh0dHA6Ly93d3cudzMub3JnLzIwMDAvc3ZnXCIgdmVyc2lvbj1cIjEuMVwiPiAgPHBhdGggZD1cIk0gMS4zNjkxOTY3NDU2NjA1MDY4ZS0xNSAtMjIuMzYwNjc5Nzc0OTk3ODk4IEwgLTUuMDIwMjg1MjQ5MjkyNDI0IC02LjkwOTgyOTg1MjczNDIxMiBMIC0yMS4yNjYyNzAyMDg4MDEgLTYuOTA5ODMwMDU2MjUwNTI4IEwgLTguMTIyOTkyMTY2NTc0ODg0IDIuNjM5MzIwMTQ3MjY1Nzg3NyBMIC0xMy4xNDMyNzc4MDI5NzgzNDMgMTguMDkwMTY5OTQzNzQ5NDczIEwgLTEuNTY4OTU5ODEyNDU4ODgzMmUtMTUgOC41NDEwMTk0MTA5MzY4NDggTCAxMy4xNDMyNzc4MDI5NzgzMzYgMTguMDkwMTY5OTQzNzQ5NDggTCA4LjEyMjk5MjE2NjU3NDg4NCAyLjYzOTMyMDE0NzI2NTc5MDMgTCAyMS4yNjYyNzAyMDg4MDEgLTYuOTA5ODMwMDU2MjUwNTIgTCA1LjAyMDI4NTI0OTI5MjQyNyAtNi45MDk4Mjk4NTI3MzQyMTE1IFpcIiBzdHJva2U9XCIjODAwMDgwXCIgc3Ryb2tlLXdpZHRoPVwiMS4wXCIgc3Ryb2tlLW9wYWNpdHk9XCJOb25lXCIgZmlsbD1cIiM4MDAwODBcIiBmaWxsLW9wYWNpdHk9XCJOb25lXCIgLz48L3N2Zz4iLCAiYW5jaG9yX3giOiAyNy4wLCAiYW5jaG9yX3kiOiAyNy42MzUyNTQ5MTU2MjQyMX19LCB7InR5cGUiOiAiRmVhdHVyZSIsICJnZW9tZXRyeSI6IHsidHlwZSI6ICJQb2ludCIsICJjb29yZGluYXRlcyI6IFstMC4xNDc4NTcsIDUxLjQ3Nzk2Nl19LCAicHJvcGVydGllcyI6IHsiaHRtbCI6ICI8c3ZnIHdpZHRoPVwiNTRweFwiIGhlaWdodD1cIjUxcHhcIiB2aWV3Qm94PVwiLTI3LjAgLTI3LjYzNTI1NDkxNTYyNDIxIDU0LjAgNTEuMFwiIHhtbG5zPVwiaHR0cDovL3d3dy53My5vcmcvMjAwMC9zdmdcIiB2ZXJzaW9uPVwiMS4xXCI+ICA8cGF0aCBkPVwiTSAxLjM2OTE5Njc0NTY2MDUwNjhlLTE1IC0yMi4zNjA2Nzk3NzQ5OTc4OTggTCAtNS4wMjAyODUyNDkyOTI0MjQgLTYuOTA5ODI5ODUyNzM0MjEyIEwgLTIxLjI2NjI3MDIwODgwMSAtNi45MDk4MzAwNTYyNTA1MjggTCAtOC4xMjI5OTIxNjY1NzQ4ODQgMi42MzkzMjAxNDcyNjU3ODc3IEwgLTEzLjE0MzI3NzgwMjk3ODM0MyAxOC4wOTAxNjk5NDM3NDk0NzMgTCAtMS41Njg5NTk4MTI0NTg4ODMyZS0xNSA4LjU0MTAxOTQxMDkzNjg0OCBMIDEzLjE0MzI3NzgwMjk3ODMzNiAxOC4wOTAxNjk5NDM3NDk0OCBMIDguMTIyOTkyMTY2NTc0ODg0IDIuNjM5MzIwMTQ3MjY1NzkwMyBMIDIxLjI2NjI3MDIwODgwMSAtNi45MDk4MzAwNTYyNTA1MiBMIDUuMDIwMjg1MjQ5MjkyNDI3IC02LjkwOTgyOTg1MjczNDIxMTUgWlwiIHN0cm9rZT1cIiM4MDAwODBcIiBzdHJva2Utd2lkdGg9XCIxLjBcIiBzdHJva2Utb3BhY2l0eT1cIk5vbmVcIiBmaWxsPVwiIzgwMDA4MFwiIGZpbGwtb3BhY2l0eT1cIk5vbmVcIiAvPjwvc3ZnPiIsICJhbmNob3JfeCI6IDI3LjAsICJhbmNob3JfeSI6IDI3LjYzNTI1NDkxNTYyNDIxfX1dfTsKCmlmIChnakRhdGEuZmVhdHVyZXMubGVuZ3RoICE9IDApIHsKICB2YXIgZ2ogPSBMLmdlb0pzb24oZ2pEYXRhLCB7CiAgICBzdHlsZTogZnVuY3Rpb24gKGZlYXR1cmUpIHsKICAgICAgcmV0dXJuIGZlYXR1cmUucHJvcGVydGllczsKICAgIH0sCiAgICBwb2ludFRvTGF5ZXI6IGZ1bmN0aW9uIChmZWF0dXJlLCBsYXRsbmcpIHsKICAgICAgdmFyIGljb24gPSBMLmRpdkljb24oeydodG1sJzogZmVhdHVyZS5wcm9wZXJ0aWVzLmh0bWwsIAogICAgICAgIGljb25BbmNob3I6IFtmZWF0dXJlLnByb3BlcnRpZXMuYW5jaG9yX3gsIAogICAgICAgICAgICAgICAgICAgICBmZWF0dXJlLnByb3BlcnRpZXMuYW5jaG9yX3ldLCAKICAgICAgICAgIGNsYXNzTmFtZTogJ2VtcHR5J30pOyAgLy8gV2hhdCBjYW4gSSBkbyBhYm91dCBlbXB0eT8KICAgICAgcmV0dXJuIEwubWFya2VyKGxhdGxuZywge2ljb246IGljb259KTsKICAgIH0KICB9KTsKICBnai5hZGRUbyhtYXApOwogIAogIG1hcC5maXRCb3VuZHMoZ2ouZ2V0Qm91bmRzKCkpOwp9IGVsc2UgewogIG1hcC5zZXRWaWV3KFswLCAwXSwgMSk7Cn0KPC9zY3JpcHQ+CjwvYm9keT4=\" width=\"100%\" height=\"600\"></iframe>"
      ],
      "text/plain": [
       "<IPython.core.display.HTML object>"
      ]
     },
     "execution_count": 8,
     "metadata": {},
     "output_type": "execute_result"
    }
   ],
   "source": [
    "fig,ax=plt.subplots(figsize=(10,10))\n",
    "#line_gdf.plot(ax=ax, color='purple')\n",
    "\n",
    "route.plot(ax=ax, color='purple', linewidth=6.0)\n",
    "\n",
    "df.plot(ax=ax, markersize=2000, marker='*', color='purple')\n",
    "mplleaflet.display(fig=fig, crs=df.crs, tiles='stamen_wc')"
   ]
  },
  {
   "cell_type": "code",
   "execution_count": null,
   "metadata": {},
   "outputs": [],
   "source": []
  },
  {
   "cell_type": "code",
   "execution_count": null,
   "metadata": {},
   "outputs": [],
   "source": []
  }
 ],
 "metadata": {
  "kernelspec": {
   "display_name": "Python 3",
   "language": "python",
   "name": "python3"
  },
  "language_info": {
   "codemirror_mode": {
    "name": "ipython",
    "version": 3
   },
   "file_extension": ".py",
   "mimetype": "text/x-python",
   "name": "python",
   "nbconvert_exporter": "python",
   "pygments_lexer": "ipython3",
   "version": "3.7.1"
  }
 },
 "nbformat": 4,
 "nbformat_minor": 2
}
