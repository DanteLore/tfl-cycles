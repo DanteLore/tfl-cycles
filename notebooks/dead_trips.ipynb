{
 "cells": [
  {
   "cell_type": "code",
   "execution_count": 1,
   "metadata": {},
   "outputs": [],
   "source": [
    "import random\n",
    "import pandas as pd\n",
    "import geopandas as gpd\n",
    "import matplotlib.dates as mdates\n",
    "import matplotlib.pyplot as plt\n",
    "import mplleaflet\n",
    "import seaborn as sns\n",
    "from pyspark.sql import SparkSession\n",
    "from pyspark.sql import types as T\n",
    "from shapely.geometry import Point, Polygon, LineString\n",
    "from IPython.display import Markdown\n",
    "\n",
    "\n",
    "palette = sns.color_palette(\"colorblind\", 20)\n",
    "\n",
    "\n",
    "def to_geo(df, x_field='longitude', y_field='latitude'):\n",
    "    geometry = [Point(xy) for xy in zip(df[x_field], df[y_field])]\n",
    "    return gpd.GeoDataFrame(df, geometry=geometry)\n",
    "\n",
    "\n",
    "spark = (\n",
    "    SparkSession.builder\n",
    "        .master(\"local\")\n",
    "        .appName(\"TFL Notebook\")\n",
    "        .config('spark.executor.memory', '8G')\n",
    "        .config('spark.driver.memory', '16G')\n",
    "        .config('spark.driver.maxResultSize', '10G')\n",
    "        .config(\"spark.sql.crossJoin.enabled\", \"true\")\n",
    "        .getOrCreate()\n",
    ")\n",
    "\n",
    "BIKE_POINTS_FILE = \"../data/bike-points.csv\"\n",
    "\n",
    "schema = T.StructType([\n",
    "    T.StructField(\"idx\",       T.IntegerType(), False),\n",
    "    T.StructField(\"id\",        T.IntegerType(), False),\n",
    "    T.StructField(\"name\",      T.StringType(),  False),\n",
    "    T.StructField(\"latitude\",  T.DoubleType(),  False),\n",
    "    T.StructField(\"longitude\", T.DoubleType(),  False),\n",
    "    T.StructField(\"osgb_x\",    T.DoubleType(),  False),\n",
    "    T.StructField(\"osgb_y\",    T.DoubleType(),  False),\n",
    "    T.StructField(\"numdocks\",  T.LongType(),    False),\n",
    "    T.StructField(\"num_bikes\", T.LongType(),    False),\n",
    "    T.StructField(\"num_empty\", T.LongType(),    False)\n",
    "])\n",
    "bike_points = spark.read.csv(BIKE_POINTS_FILE, schema=schema, header='true', mode=\"PERMISSIVE\")\n",
    "bike_points.createOrReplaceTempView(\"bike_points\")\n",
    "\n",
    "trips = spark.read.parquet(\"../data/parquet_trip\")\n",
    "trips.createOrReplaceTempView(\"trips\")\n",
    "\n",
    "trip_counts = spark.sql(\"\"\"\n",
    "    select start_station_name, end_station_name, count(*) as trip_count, sum(duration) as duration\n",
    "    from trips \n",
    "    group by start_station_name, end_station_name\n",
    "\"\"\")\n",
    "trip_counts.createOrReplaceTempView(\"trip_counts\")\n",
    "\n",
    "# Get the names only\n",
    "spark.sql(\"\"\"\n",
    "    select name from bike_points\n",
    "\"\"\").createOrReplaceTempView(\"bike_point_names\")\n",
    "\n",
    "# Self cross join to get all the name:name combos\n",
    "spark.sql(\"\"\"\n",
    "    select \n",
    "        a.name as start_station_name, \n",
    "        b.name as end_station_name\n",
    "    from bike_point_names a \n",
    "    cross join bike_point_names b\n",
    "\"\"\").createOrReplaceTempView(\"possible_trips\")\n",
    "\n",
    "\n",
    "dead_trips = spark.sql(\"\"\"\n",
    "    select p.start_station_name, p.end_station_name\n",
    "    from possible_trips p\n",
    "    left outer join trip_counts c on (p.start_station_name = c.start_station_name and p.end_station_name = c.end_station_name)\n",
    "    where c.end_station_name is null\n",
    "\"\"\").sample(False, 0.01).collect()\n"
   ]
  },
  {
   "cell_type": "code",
   "execution_count": 2,
   "metadata": {},
   "outputs": [],
   "source": [
    "c = bike_points.count()\n",
    "expected = c * c\n",
    "\n",
    "actual = trip_counts.count()\n",
    "\n",
    "t = random.choice(dead_trips)"
   ]
  },
  {
   "cell_type": "code",
   "execution_count": 3,
   "metadata": {},
   "outputs": [],
   "source": [
    "tweet =(\"\"\"\n",
    "Did you know, out of the {0:,} possible trips on @TflCycles (there are {1} stations) a whopping {2:,} have never been recorded?\n",
    "\n",
    "Why not be the first to cycle from {3} to {4}?\n",
    "\n",
    "#OpenData\"\"\".format(expected, c, expected - actual, t[\"start_station_name\"], t[\"end_station_name\"]))\n"
   ]
  },
  {
   "cell_type": "code",
   "execution_count": 4,
   "metadata": {
    "scrolled": false
   },
   "outputs": [],
   "source": [
    "\n",
    "df = to_geo(spark.sql('''\n",
    "    select * from bike_points where name = \"{0}\" or name = \"{1}\"\n",
    "'''\n",
    "            .format(t[\"start_station_name\"], t[\"end_station_name\"]))\n",
    "            .toPandas()\n",
    "           )\n",
    "\n",
    "p1 = tuple(df.loc[df['name'] == t[\"start_station_name\"]][[\"longitude\", \"latitude\"]].values[0])\n",
    "p2 = tuple(df.loc[df['name'] == t[\"end_station_name\"]][[\"longitude\", \"latitude\"]].values[0])\n",
    "\n",
    "line = LineString([p1, p2])\n",
    "line_gdf = gpd.GeoDataFrame(geometry=[line])\n"
   ]
  },
  {
   "cell_type": "code",
   "execution_count": 26,
   "metadata": {},
   "outputs": [],
   "source": [
    "import googlemaps\n",
    "import keyring\n",
    "from datetime import datetime\n",
    "import polyline\n",
    "\n",
    "gmaps = googlemaps.Client(key=keyring.get_password('logicalgenetics', 'google'))\n",
    "\n",
    "directions_result = gmaps.directions(\"{1}, {0}\".format(*p1),\n",
    "                                     \"{1}, {0}\".format(*p2),\n",
    "                                     mode=\"bicycling\",\n",
    "                                     departure_time=datetime.now())\n",
    "\n",
    "points = [(lat, lon) for (lon, lat) in polyline.decode(encoded)]\n",
    "\n",
    "route = gpd.GeoDataFrame(pd.DataFrame([LineString(points)], columns=['geometry']))\n"
   ]
  },
  {
   "cell_type": "markdown",
   "metadata": {},
   "source": [
    "# Results"
   ]
  },
  {
   "cell_type": "code",
   "execution_count": 6,
   "metadata": {},
   "outputs": [
    {
     "data": {
      "text/markdown": [
       "\n",
       "Did you know, out of the 614,656 possible trips on @TflCycles (there are 784 stations) a whopping 62,229 have never been recorded?\n",
       "\n",
       "Why not be the first to cycle from Royal Avenue 1, Chelsea to Rectory Square, Stepney?\n",
       "\n",
       "#OpenData"
      ],
      "text/plain": [
       "<IPython.core.display.Markdown object>"
      ]
     },
     "execution_count": 6,
     "metadata": {},
     "output_type": "execute_result"
    }
   ],
   "source": [
    "Markdown(tweet)"
   ]
  },
  {
   "cell_type": "code",
   "execution_count": 37,
   "metadata": {},
   "outputs": [
    {
     "data": {
      "text/html": [
       "<iframe src=\"data:text/html;base64,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\" width=\"100%\" height=\"600\"></iframe>"
      ],
      "text/plain": [
       "<IPython.core.display.HTML object>"
      ]
     },
     "execution_count": 37,
     "metadata": {},
     "output_type": "execute_result"
    }
   ],
   "source": [
    "fig,ax=plt.subplots(figsize=(10,10))\n",
    "#line_gdf.plot(ax=ax, color='purple')\n",
    "\n",
    "route.plot(ax=ax, color='purple', linewidth=6.0)\n",
    "\n",
    "df.plot(ax=ax, markersize=2000, marker='*', color='purple')\n",
    "mplleaflet.display(fig=fig, crs=df.crs, tiles='stamen_wc')"
   ]
  },
  {
   "cell_type": "code",
   "execution_count": null,
   "metadata": {},
   "outputs": [],
   "source": []
  },
  {
   "cell_type": "code",
   "execution_count": null,
   "metadata": {},
   "outputs": [],
   "source": []
  }
 ],
 "metadata": {
  "kernelspec": {
   "display_name": "Python 3",
   "language": "python",
   "name": "python3"
  },
  "language_info": {
   "codemirror_mode": {
    "name": "ipython",
    "version": 3
   },
   "file_extension": ".py",
   "mimetype": "text/x-python",
   "name": "python",
   "nbconvert_exporter": "python",
   "pygments_lexer": "ipython3",
   "version": "3.7.1"
  }
 },
 "nbformat": 4,
 "nbformat_minor": 2
}
